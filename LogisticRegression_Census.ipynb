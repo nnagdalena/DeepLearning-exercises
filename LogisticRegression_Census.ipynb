{
 "cells": [
  {
   "cell_type": "markdown",
   "metadata": {
    "id": "8CP2v-DpEBMu"
   },
   "source": [
    "# Census Income\n",
    "This is a Sci-Kit Learn + Pandas example of classification problem. The dataset comes from http://archive.ics.uci.edu/. \n",
    "\n",
    "Data extraction was done by Barry Becker from the 1994 Census database. A set of reasonably clean records was extracted using the following conditions: ((AAGE>16) && (AGI>100) && (AFNLWGT>1)&& (HRSWK>0)). The data was also preprocessed for the purpose of this example.\n",
    "\n",
    "Prediction task is to determine whether a person makes over 50K a year.\n",
    "\n",
    "\n",
    "### List of attributes:\n",
    "\n",
    "##### Features\n",
    "- age: continuous. \n",
    "- workclass: Private, Self-emp-not-inc, Self-emp-inc, Federal-gov, Local-gov, State-gov, Without-pay, Never-worked. \n",
    "- education: Bachelors, Some-college, 11th, HS-grad, Prof-school, Assoc-acdm, Assoc-voc, 9th, 7th-8th, 12th, Masters, 1st-4th, - 10th, Doctorate, 5th-6th, Preschool. \n",
    "- education-num: continuous. \n",
    "- marital-status: Married-civ-spouse, Divorced, Never-married, Separated, Widowed, Married-spouse-absent, Married-AF-spouse. \n",
    "- occupation: Tech-support, Craft-repair, Other-service, Sales, Exec-managerial, Prof-specialty, Handlers-cleaners, Machine-op-inspct, Adm-clerical, Farming-fishing, Transport-moving, Priv-house-serv, Protective-serv, Armed-Forces. \n",
    "- relationship: Wife, Own-child, Husband, Not-in-family, Other-relative, Unmarried. \n",
    "- race: White, Asian-Pac-Islander, Amer-Indian-Eskimo, Other, Black. \n",
    "- sex: Female, Male. \n",
    "- hours-per-week: continuous. \n",
    "- native-country: United-States, Cambodia, England, Puerto-Rico, Canada, Germany, Outlying-US(Guam-USVI-etc), India, Japan, Greece, South, China, Cuba, Iran, Honduras, Philippines, Italy, Poland, Jamaica, Vietnam, Mexico, Portugal, Ireland, France, Dominican-Republic, Laos, Ecuador, Taiwan, Haiti, Columbia, Hungary, Guatemala, Nicaragua, Scotland, Thailand, Yugoslavia, El-Salvador, Trinadad&Tobago, Peru, Hong, Holand-Netherlands.\n",
    "\n",
    "\n",
    "\n",
    "##### Labels\n",
    "- income - >50K, <=50K. "
   ]
  },
  {
   "cell_type": "code",
   "execution_count": null,
   "metadata": {
    "id": "JAmr7733EBMz"
   },
   "outputs": [],
   "source": [
    "import pandas as pd\n",
    "import numpy as np\n",
    "\n",
    "import matplotlib.pyplot as plt"
   ]
  },
  {
   "cell_type": "code",
   "execution_count": null,
   "metadata": {
    "colab": {
     "base_uri": "https://localhost:8080/"
    },
    "id": "MLCV9n2PEBND",
    "outputId": "a4a5aab7-a808-44a2-ceb1-34ac0e2cf741"
   },
   "outputs": [
    {
     "name": "stdout",
     "output_type": "stream",
     "text": [
      "--2020-11-18 08:03:22--  https://raw.githubusercontent.com/PrzemekSekula/DeepLearningClasses1/master/LogisticRegressionCensus/census.csv\n",
      "Resolving raw.githubusercontent.com (raw.githubusercontent.com)... 151.101.0.133, 151.101.64.133, 151.101.128.133, ...\n",
      "Connecting to raw.githubusercontent.com (raw.githubusercontent.com)|151.101.0.133|:443... connected.\n",
      "HTTP request sent, awaiting response... 200 OK\n",
      "Length: 3152687 (3.0M) [text/plain]\n",
      "Saving to: ‘census.csv’\n",
      "\n",
      "census.csv          100%[===================>]   3.01M  --.-KB/s    in 0.09s   \n",
      "\n",
      "2020-11-18 08:03:23 (33.4 MB/s) - ‘census.csv’ saved [3152687/3152687]\n",
      "\n"
     ]
    }
   ],
   "source": [
    "# Uncomment this if you are using Google Colab\n",
    "!wget https://raw.githubusercontent.com/PrzemekSekula/DeepLearningClasses1/master/LogisticRegressionCensus/census.csv"
   ]
  },
  {
   "cell_type": "markdown",
   "metadata": {
    "id": "R8zSB20lEBNU"
   },
   "source": [
    "### Load dataset"
   ]
  },
  {
   "cell_type": "code",
   "execution_count": null,
   "metadata": {
    "colab": {
     "base_uri": "https://localhost:8080/",
     "height": 289
    },
    "id": "xovrDfEhEBNW",
    "outputId": "d6f3e0ef-62e5-401b-ea80-412084933bb7"
   },
   "outputs": [
    {
     "name": "stdout",
     "output_type": "stream",
     "text": [
      "(32561, 12)\n",
      "Index(['age', 'workclass', 'education', 'education-num', 'marital-status',\n",
      "       'occupation', 'relationship', 'race', 'sex', 'hours-per-week',\n",
      "       'native-country', 'income'],\n",
      "      dtype='object')\n"
     ]
    },
    {
     "data": {
      "text/html": [
       "<div>\n",
       "<style scoped>\n",
       "    .dataframe tbody tr th:only-of-type {\n",
       "        vertical-align: middle;\n",
       "    }\n",
       "\n",
       "    .dataframe tbody tr th {\n",
       "        vertical-align: top;\n",
       "    }\n",
       "\n",
       "    .dataframe thead th {\n",
       "        text-align: right;\n",
       "    }\n",
       "</style>\n",
       "<table border=\"1\" class=\"dataframe\">\n",
       "  <thead>\n",
       "    <tr style=\"text-align: right;\">\n",
       "      <th></th>\n",
       "      <th>age</th>\n",
       "      <th>workclass</th>\n",
       "      <th>education</th>\n",
       "      <th>education-num</th>\n",
       "      <th>marital-status</th>\n",
       "      <th>occupation</th>\n",
       "      <th>relationship</th>\n",
       "      <th>race</th>\n",
       "      <th>sex</th>\n",
       "      <th>hours-per-week</th>\n",
       "      <th>native-country</th>\n",
       "      <th>income</th>\n",
       "    </tr>\n",
       "  </thead>\n",
       "  <tbody>\n",
       "    <tr>\n",
       "      <th>0</th>\n",
       "      <td>39</td>\n",
       "      <td>State-gov</td>\n",
       "      <td>Bachelors</td>\n",
       "      <td>13</td>\n",
       "      <td>Never-married</td>\n",
       "      <td>Adm-clerical</td>\n",
       "      <td>Not-in-family</td>\n",
       "      <td>White</td>\n",
       "      <td>Male</td>\n",
       "      <td>40</td>\n",
       "      <td>United-States</td>\n",
       "      <td>&lt;=50K</td>\n",
       "    </tr>\n",
       "    <tr>\n",
       "      <th>1</th>\n",
       "      <td>50</td>\n",
       "      <td>Self-emp-not-inc</td>\n",
       "      <td>Bachelors</td>\n",
       "      <td>13</td>\n",
       "      <td>Married-civ-spouse</td>\n",
       "      <td>Exec-managerial</td>\n",
       "      <td>Husband</td>\n",
       "      <td>White</td>\n",
       "      <td>Male</td>\n",
       "      <td>13</td>\n",
       "      <td>United-States</td>\n",
       "      <td>&lt;=50K</td>\n",
       "    </tr>\n",
       "    <tr>\n",
       "      <th>2</th>\n",
       "      <td>38</td>\n",
       "      <td>Private</td>\n",
       "      <td>HS-grad</td>\n",
       "      <td>9</td>\n",
       "      <td>Divorced</td>\n",
       "      <td>Handlers-cleaners</td>\n",
       "      <td>Not-in-family</td>\n",
       "      <td>White</td>\n",
       "      <td>Male</td>\n",
       "      <td>40</td>\n",
       "      <td>United-States</td>\n",
       "      <td>&lt;=50K</td>\n",
       "    </tr>\n",
       "    <tr>\n",
       "      <th>3</th>\n",
       "      <td>53</td>\n",
       "      <td>Private</td>\n",
       "      <td>11th</td>\n",
       "      <td>7</td>\n",
       "      <td>Married-civ-spouse</td>\n",
       "      <td>Handlers-cleaners</td>\n",
       "      <td>Husband</td>\n",
       "      <td>Black</td>\n",
       "      <td>Male</td>\n",
       "      <td>40</td>\n",
       "      <td>United-States</td>\n",
       "      <td>&lt;=50K</td>\n",
       "    </tr>\n",
       "    <tr>\n",
       "      <th>4</th>\n",
       "      <td>28</td>\n",
       "      <td>Private</td>\n",
       "      <td>Bachelors</td>\n",
       "      <td>13</td>\n",
       "      <td>Married-civ-spouse</td>\n",
       "      <td>Prof-specialty</td>\n",
       "      <td>Wife</td>\n",
       "      <td>Black</td>\n",
       "      <td>Female</td>\n",
       "      <td>40</td>\n",
       "      <td>Cuba</td>\n",
       "      <td>&lt;=50K</td>\n",
       "    </tr>\n",
       "  </tbody>\n",
       "</table>\n",
       "</div>"
      ],
      "text/plain": [
       "   age         workclass  education  ...  hours-per-week native-country income\n",
       "0   39         State-gov  Bachelors  ...              40  United-States  <=50K\n",
       "1   50  Self-emp-not-inc  Bachelors  ...              13  United-States  <=50K\n",
       "2   38           Private    HS-grad  ...              40  United-States  <=50K\n",
       "3   53           Private       11th  ...              40  United-States  <=50K\n",
       "4   28           Private  Bachelors  ...              40           Cuba  <=50K\n",
       "\n",
       "[5 rows x 12 columns]"
      ]
     },
     "execution_count": 3,
     "metadata": {
      "tags": []
     },
     "output_type": "execute_result"
    }
   ],
   "source": [
    "df = pd.read_csv(\"./census.csv\")\n",
    "\n",
    "print (df.shape)\n",
    "print (df.columns)\n",
    "df.head()"
   ]
  },
  {
   "cell_type": "markdown",
   "metadata": {
    "id": "-SZ2Yve-EBNg"
   },
   "source": [
    "## Task 1 - Initial analysis\n",
    "Perform initial analysis to understand the data."
   ]
  },
  {
   "cell_type": "code",
   "execution_count": null,
   "metadata": {
    "colab": {
     "base_uri": "https://localhost:8080/"
    },
    "id": "CrMUK7mpEBNi",
    "outputId": "7be59a7d-49f2-4345-bcae-c199274d1fe8"
   },
   "outputs": [
    {
     "data": {
      "text/plain": [
       "age               0\n",
       "workclass         0\n",
       "education         0\n",
       "education-num     0\n",
       "marital-status    0\n",
       "occupation        0\n",
       "relationship      0\n",
       "race              0\n",
       "sex               0\n",
       "hours-per-week    0\n",
       "native-country    0\n",
       "income            0\n",
       "dtype: int64"
      ]
     },
     "execution_count": 4,
     "metadata": {
      "tags": []
     },
     "output_type": "execute_result"
    }
   ],
   "source": [
    "df.isnull().sum()"
   ]
  },
  {
   "cell_type": "code",
   "execution_count": null,
   "metadata": {
    "colab": {
     "base_uri": "https://localhost:8080/"
    },
    "id": "mgUZNXOtEBNt",
    "outputId": "567f7fe9-35ea-4e9c-c660-79df38e552bf"
   },
   "outputs": [
    {
     "data": {
      "text/plain": [
       "<=50K    24720\n",
       ">50K      7841\n",
       "Name: income, dtype: int64"
      ]
     },
     "execution_count": 5,
     "metadata": {
      "tags": []
     },
     "output_type": "execute_result"
    }
   ],
   "source": [
    "df.income.value_counts()"
   ]
  },
  {
   "cell_type": "code",
   "execution_count": null,
   "metadata": {
    "colab": {
     "base_uri": "https://localhost:8080/"
    },
    "id": "ndUjipQZ_38k",
    "outputId": "d39dfd3b-240f-4467-d7c4-9f4321a0ad7e"
   },
   "outputs": [
    {
     "data": {
      "text/plain": [
       "0    24720\n",
       "1     7841\n",
       "Name: over50k-income, dtype: int64"
      ]
     },
     "execution_count": 6,
     "metadata": {
      "tags": []
     },
     "output_type": "execute_result"
    }
   ],
   "source": [
    "df['income'].replace({\"<=50K\": 0, \">50K\": 1}, inplace=True)\n",
    "df.rename(columns={\"income\": \"over50k-income\"}, inplace=True)\n",
    "df['over50k-income'].value_counts()"
   ]
  },
  {
   "cell_type": "code",
   "execution_count": null,
   "metadata": {
    "colab": {
     "base_uri": "https://localhost:8080/"
    },
    "id": "n5YpUBNxEBN4",
    "outputId": "fd02a21f-a72a-4c51-c983-07e37d7aa0e9"
   },
   "outputs": [
    {
     "data": {
      "text/plain": [
       "White                 27816\n",
       "Black                  3124\n",
       "Asian-Pac-Islander     1039\n",
       "Amer-Indian-Eskimo      311\n",
       "Other                   271\n",
       "Name: race, dtype: int64"
      ]
     },
     "execution_count": 7,
     "metadata": {
      "tags": []
     },
     "output_type": "execute_result"
    }
   ],
   "source": [
    "df.race.value_counts()"
   ]
  },
  {
   "cell_type": "code",
   "execution_count": null,
   "metadata": {
    "colab": {
     "base_uri": "https://localhost:8080/"
    },
    "id": "urx4drp9AWld",
    "outputId": "38c11e00-aa7d-4951-fc4f-7df36d7da619"
   },
   "outputs": [
    {
     "data": {
      "text/plain": [
       "1    27816\n",
       "0     4745\n",
       "Name: race-white, dtype: int64"
      ]
     },
     "execution_count": 8,
     "metadata": {
      "tags": []
     },
     "output_type": "execute_result"
    }
   ],
   "source": [
    "df.race.replace({\"Amer-Indian-Eskimo\": 0,\n",
    "                \"Black\": 0,\n",
    "                \"Asian-Pac-Islander\": 0,\n",
    "                \"Other\": 0,\n",
    "                \"White\": 1}, inplace=True)\n",
    "\n",
    "df.rename(columns={\"race\": \"race-white\"}, inplace=True)\n",
    "\n",
    "df['race-white'].value_counts()"
   ]
  },
  {
   "cell_type": "code",
   "execution_count": null,
   "metadata": {
    "colab": {
     "base_uri": "https://localhost:8080/"
    },
    "id": "HRLIMX2lEBOC",
    "outputId": "6ed32fcc-6e41-4aa6-c6a0-dd8c8495ecf2"
   },
   "outputs": [
    {
     "data": {
      "text/plain": [
       "Male      21790\n",
       "Female    10771\n",
       "Name: sex, dtype: int64"
      ]
     },
     "execution_count": 9,
     "metadata": {
      "tags": []
     },
     "output_type": "execute_result"
    }
   ],
   "source": [
    "df.sex.value_counts()"
   ]
  },
  {
   "cell_type": "code",
   "execution_count": null,
   "metadata": {
    "colab": {
     "base_uri": "https://localhost:8080/"
    },
    "id": "CiHoRUR-Af7H",
    "outputId": "1b15766d-542a-4c1f-b867-e68323bc82ef"
   },
   "outputs": [
    {
     "data": {
      "text/plain": [
       "1    21790\n",
       "0    10771\n",
       "Name: sex-male, dtype: int64"
      ]
     },
     "execution_count": 10,
     "metadata": {
      "tags": []
     },
     "output_type": "execute_result"
    }
   ],
   "source": [
    "df.sex.replace({\"Male\": 1,\n",
    "                \"Female\": 0}, inplace=True)\n",
    "\n",
    "df.rename(columns={\"sex\": \"sex-male\"}, inplace=True)\n",
    "\n",
    "df['sex-male'].value_counts()"
   ]
  },
  {
   "cell_type": "code",
   "execution_count": null,
   "metadata": {
    "colab": {
     "base_uri": "https://localhost:8080/"
    },
    "id": "wGTf6SG-EBOK",
    "outputId": "5308e152-a256-40e8-c648-a048f1e02f38"
   },
   "outputs": [
    {
     "data": {
      "text/plain": [
       "Private             22696\n",
       "Self-emp-not-inc     2541\n",
       "Local-gov            2093\n",
       "?                    1836\n",
       "State-gov            1298\n",
       "Self-emp-inc         1116\n",
       "Federal-gov           960\n",
       "Without-pay            14\n",
       "Never-worked            7\n",
       "Name: workclass, dtype: int64"
      ]
     },
     "execution_count": 11,
     "metadata": {
      "tags": []
     },
     "output_type": "execute_result"
    }
   ],
   "source": [
    "df.workclass.value_counts()"
   ]
  },
  {
   "cell_type": "code",
   "execution_count": null,
   "metadata": {
    "colab": {
     "base_uri": "https://localhost:8080/"
    },
    "id": "eB427MqeAnLV",
    "outputId": "7234c6c0-a06c-41c5-84ce-008be912afcd"
   },
   "outputs": [
    {
     "data": {
      "text/plain": [
       "Private             22696\n",
       "Self-emp-not-inc     2541\n",
       "Local-gov            2093\n",
       "?                    1857\n",
       "State-gov            1298\n",
       "Self-emp-inc         1116\n",
       "Federal-gov           960\n",
       "Name: workclass, dtype: int64"
      ]
     },
     "execution_count": 12,
     "metadata": {
      "tags": []
     },
     "output_type": "execute_result"
    }
   ],
   "source": [
    "df.workclass.replace({\"Never-worked\": \"?\", \"Without-pay\": \"?\"}, inplace=True)\n",
    "df.workclass.value_counts()"
   ]
  },
  {
   "cell_type": "code",
   "execution_count": null,
   "metadata": {
    "colab": {
     "base_uri": "https://localhost:8080/"
    },
    "id": "caIc6h3MaRuu",
    "outputId": "972b8d18-3537-4595-8b69-166253bcf2be"
   },
   "outputs": [
    {
     "data": {
      "text/plain": [
       "HS-grad         10501\n",
       "Some-college     7291\n",
       "Bachelors        5355\n",
       "Masters          1723\n",
       "Assoc-voc        1382\n",
       "11th             1175\n",
       "Assoc-acdm       1067\n",
       "10th              933\n",
       "7th-8th           646\n",
       "Prof-school       576\n",
       "9th               514\n",
       "12th              433\n",
       "Doctorate         413\n",
       "5th-6th           333\n",
       "1st-4th           168\n",
       "Preschool          51\n",
       "Name: education, dtype: int64"
      ]
     },
     "execution_count": 13,
     "metadata": {
      "tags": []
     },
     "output_type": "execute_result"
    }
   ],
   "source": [
    "df.education.value_counts()"
   ]
  },
  {
   "cell_type": "code",
   "execution_count": null,
   "metadata": {
    "colab": {
     "base_uri": "https://localhost:8080/"
    },
    "id": "_cSuTj0LAwLI",
    "outputId": "09beb238-9076-4237-dbdd-e8ee2c3fe3cc"
   },
   "outputs": [
    {
     "data": {
      "text/plain": [
       "HS-grad          10501\n",
       "Some-college      7291\n",
       "Bachelors         5355\n",
       "Masters           1723\n",
       "Assoc-voc         1382\n",
       "11th              1175\n",
       "Assoc-acdm        1067\n",
       "10th               933\n",
       "7th-8th            646\n",
       "Prof-school        576\n",
       "Preschool-6th      552\n",
       "9th                514\n",
       "12th               433\n",
       "Doctorate          413\n",
       "Name: education, dtype: int64"
      ]
     },
     "execution_count": 14,
     "metadata": {
      "tags": []
     },
     "output_type": "execute_result"
    }
   ],
   "source": [
    "df.education.replace({\"Preschool\": \"Preschool-6th\", \n",
    "                      \"1st-4th\": \"Preschool-6th\", \n",
    "                      \"5th-6th\": \"Preschool-6th\"}, inplace=True)\n",
    "df.education.value_counts()"
   ]
  },
  {
   "cell_type": "code",
   "execution_count": null,
   "metadata": {
    "colab": {
     "base_uri": "https://localhost:8080/"
    },
    "id": "hC5T77Z0apTd",
    "outputId": "b31de3b3-c1c0-4afe-f81e-27d9afec1161"
   },
   "outputs": [
    {
     "data": {
      "text/plain": [
       "Married-civ-spouse       14976\n",
       "Never-married            10683\n",
       "Divorced                  4443\n",
       "Separated                 1025\n",
       "Widowed                    993\n",
       "Married-spouse-absent      418\n",
       "Married-AF-spouse           23\n",
       "Name: marital-status, dtype: int64"
      ]
     },
     "execution_count": 15,
     "metadata": {
      "tags": []
     },
     "output_type": "execute_result"
    }
   ],
   "source": [
    "df['marital-status'].value_counts()"
   ]
  },
  {
   "cell_type": "code",
   "execution_count": null,
   "metadata": {
    "colab": {
     "base_uri": "https://localhost:8080/"
    },
    "id": "27lLaO5bA6hA",
    "outputId": "8a3045d3-b450-4d2f-ab5c-4428e7f6b9b3"
   },
   "outputs": [
    {
     "data": {
      "text/plain": [
       "Married                  14999\n",
       "Never-married            10683\n",
       "Divorced                  4443\n",
       "Separated                 1025\n",
       "Widowed                    993\n",
       "Married-spouse-absent      418\n",
       "Name: marital-status, dtype: int64"
      ]
     },
     "execution_count": 16,
     "metadata": {
      "tags": []
     },
     "output_type": "execute_result"
    }
   ],
   "source": [
    "df['marital-status'].replace({\"Married-AF-spouse\": \"Married\", \n",
    "                              \"Married-civ-spouse\": \"Married\"}, inplace=True)\n",
    "df['marital-status'].value_counts()"
   ]
  },
  {
   "cell_type": "code",
   "execution_count": null,
   "metadata": {
    "colab": {
     "base_uri": "https://localhost:8080/"
    },
    "id": "6lNE-ibKapeh",
    "outputId": "f6001780-facc-465a-8015-c0a84cae883a"
   },
   "outputs": [
    {
     "data": {
      "text/plain": [
       "Prof-specialty       4140\n",
       "Craft-repair         4099\n",
       "Exec-managerial      4066\n",
       "Adm-clerical         3770\n",
       "Sales                3650\n",
       "Other-service        3295\n",
       "Machine-op-inspct    2002\n",
       "?                    1843\n",
       "Transport-moving     1597\n",
       "Handlers-cleaners    1370\n",
       "Farming-fishing       994\n",
       "Tech-support          928\n",
       "Protective-serv       649\n",
       "Priv-house-serv       149\n",
       "Armed-Forces            9\n",
       "Name: occupation, dtype: int64"
      ]
     },
     "execution_count": 17,
     "metadata": {
      "tags": []
     },
     "output_type": "execute_result"
    }
   ],
   "source": [
    "df.occupation.value_counts()"
   ]
  },
  {
   "cell_type": "code",
   "execution_count": null,
   "metadata": {
    "colab": {
     "base_uri": "https://localhost:8080/"
    },
    "id": "jWJWfuRKBLif",
    "outputId": "4365526b-fa7a-48c7-d011-6da4117befbd"
   },
   "outputs": [
    {
     "data": {
      "text/plain": [
       "Other-service        5296\n",
       "Prof-specialty       4140\n",
       "Craft-repair         4099\n",
       "Exec-managerial      4066\n",
       "Adm-clerical         3770\n",
       "Sales                3650\n",
       "Machine-op-inspct    2002\n",
       "Transport-moving     1597\n",
       "Handlers-cleaners    1370\n",
       "Farming-fishing       994\n",
       "Tech-support          928\n",
       "Protective-serv       649\n",
       "Name: occupation, dtype: int64"
      ]
     },
     "execution_count": 18,
     "metadata": {
      "tags": []
     },
     "output_type": "execute_result"
    }
   ],
   "source": [
    "df.occupation.replace({\"Armed-Forces\": \"Other-service\", \n",
    "                      \"Priv-house-serv\": \"Other-service\",\n",
    "                       \"?\": \"Other-service\"}, inplace=True)\n",
    "df.occupation.value_counts()"
   ]
  },
  {
   "cell_type": "code",
   "execution_count": null,
   "metadata": {
    "colab": {
     "base_uri": "https://localhost:8080/"
    },
    "id": "SZZVXH-papn4",
    "outputId": "9ce0adae-a539-4f75-9d93-4803c4a886bb"
   },
   "outputs": [
    {
     "data": {
      "text/plain": [
       "Husband           13193\n",
       "Not-in-family      8305\n",
       "Own-child          5068\n",
       "Unmarried          3446\n",
       "Wife               1568\n",
       "Other-relative      981\n",
       "Name: relationship, dtype: int64"
      ]
     },
     "execution_count": 19,
     "metadata": {
      "tags": []
     },
     "output_type": "execute_result"
    }
   ],
   "source": [
    "df.relationship.value_counts()"
   ]
  },
  {
   "cell_type": "code",
   "execution_count": null,
   "metadata": {
    "colab": {
     "base_uri": "https://localhost:8080/"
    },
    "id": "KpixsJISapwQ",
    "outputId": "3d837676-afe1-47a7-bea4-167b97eb1e7b"
   },
   "outputs": [
    {
     "data": {
      "text/plain": [
       "United-States                 29170\n",
       "Mexico                          643\n",
       "?                               583\n",
       "Philippines                     198\n",
       "Germany                         137\n",
       "Canada                          121\n",
       "Puerto-Rico                     114\n",
       "El-Salvador                     106\n",
       "India                           100\n",
       "Cuba                             95\n",
       "England                          90\n",
       "Jamaica                          81\n",
       "South                            80\n",
       "China                            75\n",
       "Italy                            73\n",
       "Dominican-Republic               70\n",
       "Vietnam                          67\n",
       "Guatemala                        64\n",
       "Japan                            62\n",
       "Poland                           60\n",
       "Columbia                         59\n",
       "Taiwan                           51\n",
       "Haiti                            44\n",
       "Iran                             43\n",
       "Portugal                         37\n",
       "Nicaragua                        34\n",
       "Peru                             31\n",
       "France                           29\n",
       "Greece                           29\n",
       "Ecuador                          28\n",
       "Ireland                          24\n",
       "Hong                             20\n",
       "Trinadad&Tobago                  19\n",
       "Cambodia                         19\n",
       "Thailand                         18\n",
       "Laos                             18\n",
       "Yugoslavia                       16\n",
       "Outlying-US(Guam-USVI-etc)       14\n",
       "Hungary                          13\n",
       "Honduras                         13\n",
       "Scotland                         12\n",
       "Holand-Netherlands                1\n",
       "Name: native-country, dtype: int64"
      ]
     },
     "execution_count": 20,
     "metadata": {
      "tags": []
     },
     "output_type": "execute_result"
    }
   ],
   "source": [
    "df['native-country'].value_counts()"
   ]
  },
  {
   "cell_type": "code",
   "execution_count": null,
   "metadata": {
    "colab": {
     "base_uri": "https://localhost:8080/"
    },
    "id": "zbvnuqqdBYtz",
    "outputId": "d0d1589c-9f05-47e6-da57-a12961bbe767"
   },
   "outputs": [
    {
     "data": {
      "text/plain": [
       "1    29170\n",
       "0     3391\n",
       "Name: country-USA, dtype: int64"
      ]
     },
     "execution_count": 21,
     "metadata": {
      "tags": []
     },
     "output_type": "execute_result"
    }
   ],
   "source": [
    "df['native-country'].replace(['Mexico','?', 'Cambodia', 'England', 'Puerto-Rico', 'Canada', 'Germany', 'Outlying-US(Guam-USVI-etc)', 'India', 'Japan', 'Greece', 'South', 'China', 'Cuba', 'Iran', 'Honduras', 'Philippines', 'Italy', 'Poland', 'Jamaica', 'Vietnam', 'Portugal', 'Ireland', 'France', 'Dominican-Republic', 'Laos', 'Ecuador', 'Taiwan', 'Haiti', 'Columbia', 'Hungary', 'Guatemala', 'Nicaragua', 'Scotland', 'Thailand', 'Yugoslavia', 'El-Salvador', 'Trinadad&Tobago', 'Peru', 'Hong', 'Holand-Netherlands'], 0, inplace=True)\n",
    "df['native-country'].replace('United-States',1, inplace=True)\n",
    "df.rename(columns={\"native-country\": \"country-USA\"}, inplace=True)\n",
    "df['country-USA'].value_counts()\n",
    "#omggggggggg\n",
    "#df['native-country'].replace({not \"United-States\": \"Not-US\"}, inplace=True)\n",
    "#protip -> [kolumna]=='us'.astype(int)"
   ]
  },
  {
   "cell_type": "code",
   "execution_count": null,
   "metadata": {
    "colab": {
     "base_uri": "https://localhost:8080/",
     "height": 282
    },
    "id": "75IM-wf2b50G",
    "outputId": "26d9e88d-8477-4ec6-a737-7ce01ba81d92"
   },
   "outputs": [
    {
     "data": {
      "text/plain": [
       "<matplotlib.axes._subplots.AxesSubplot at 0x7f2525422588>"
      ]
     },
     "execution_count": 35,
     "metadata": {
      "tags": []
     },
     "output_type": "execute_result"
    },
    {
     "data": {
      "image/png": "[encoded data removed]",
      "text/plain": [
       "<Figure size 432x288 with 1 Axes>"
      ]
     },
     "metadata": {
      "needs_background": "light",
      "tags": []
     },
     "output_type": "display_data"
    }
   ],
   "source": [
    "df.age.hist(grid=False)\n",
    "df['education-num'].hist(grid=False)\n",
    "df['hours-per-week'].hist(grid=False)"
   ]
  },
  {
   "cell_type": "code",
   "execution_count": null,
   "metadata": {
    "colab": {
     "base_uri": "https://localhost:8080/",
     "height": 314
    },
    "id": "2ngkT4Awcz-V",
    "outputId": "cfca2be7-cd53-45d1-e302-471e25af9681"
   },
   "outputs": [
    {
     "data": {
      "image/png": "[encoded data removed]",
      "text/plain": [
       "<Figure size 432x288 with 2 Axes>"
      ]
     },
     "metadata": {
      "needs_background": "light",
      "tags": []
     },
     "output_type": "display_data"
    }
   ],
   "source": [
    "import seaborn as sns\n",
    "\n",
    "# calculate the correlation matrix\n",
    "corr = df.corr()\n",
    "\n",
    "# plot the heatmap\n",
    "hm = sns.heatmap(corr,\n",
    "                 annot=True,\n",
    "                 fmt='.1g',\n",
    "                 #vmin=0,\n",
    "                 #vmax=1,\n",
    "                 #center=0.5,\n",
    "                 #cmap=sns.color_palette(\"ch:s=-.2,r=.6\"),\n",
    "                 linewidths=3,\n",
    "                 linecolor='white')\n",
    "\n",
    "hm.set_xticklabels(hm.get_xticklabels(),\n",
    "                    rotation=35,\n",
    "                    horizontalalignment='right');"
   ]
  },
  {
   "cell_type": "markdown",
   "metadata": {
    "id": "vQtvQll7EBOT"
   },
   "source": [
    "## Task 2 - Preparing data\n",
    "- Select features `X` and labels `y`. Make sure that your selection makes sense.\n",
    "- Change the data into a numerical form to let your algorithm (logistic regression) deal with them\n",
    "- Perform One-hot encoding if necessary\n",
    "- Split your data into train and test subsets. Make sure that your split is reasonable. Use `stratify` if you consider it helpful."
   ]
  },
  {
   "cell_type": "code",
   "execution_count": null,
   "metadata": {
    "colab": {
     "base_uri": "https://localhost:8080/"
    },
    "id": "1scEbN5IEBOU",
    "outputId": "b84cb5e7-d4f4-4a79-a875-dbe144e576a3"
   },
   "outputs": [
    {
     "data": {
      "text/plain": [
       "0    0\n",
       "1    0\n",
       "2    0\n",
       "3    0\n",
       "4    0\n",
       "Name: over50k-income, dtype: int64"
      ]
     },
     "execution_count": 24,
     "metadata": {
      "tags": []
     },
     "output_type": "execute_result"
    }
   ],
   "source": [
    "y = df['over50k-income']\n",
    "y.head()"
   ]
  },
  {
   "cell_type": "code",
   "execution_count": null,
   "metadata": {
    "colab": {
     "base_uri": "https://localhost:8080/",
     "height": 258
    },
    "id": "3pMDZXJuEBOy",
    "outputId": "d4a36648-6d89-46ab-83c7-ccd7f293cc20"
   },
   "outputs": [
    {
     "data": {
      "text/html": [
       "<div>\n",
       "<style scoped>\n",
       "    .dataframe tbody tr th:only-of-type {\n",
       "        vertical-align: middle;\n",
       "    }\n",
       "\n",
       "    .dataframe tbody tr th {\n",
       "        vertical-align: top;\n",
       "    }\n",
       "\n",
       "    .dataframe thead th {\n",
       "        text-align: right;\n",
       "    }\n",
       "</style>\n",
       "<table border=\"1\" class=\"dataframe\">\n",
       "  <thead>\n",
       "    <tr style=\"text-align: right;\">\n",
       "      <th></th>\n",
       "      <th>race-white</th>\n",
       "      <th>sex-male</th>\n",
       "      <th>country-USA</th>\n",
       "      <th>workclass_?</th>\n",
       "      <th>workclass_Federal-gov</th>\n",
       "      <th>workclass_Local-gov</th>\n",
       "      <th>workclass_Private</th>\n",
       "      <th>workclass_Self-emp-inc</th>\n",
       "      <th>workclass_Self-emp-not-inc</th>\n",
       "      <th>workclass_State-gov</th>\n",
       "      <th>marital-status_Divorced</th>\n",
       "      <th>marital-status_Married</th>\n",
       "      <th>marital-status_Married-spouse-absent</th>\n",
       "      <th>marital-status_Never-married</th>\n",
       "      <th>marital-status_Separated</th>\n",
       "      <th>marital-status_Widowed</th>\n",
       "      <th>occupation_Adm-clerical</th>\n",
       "      <th>occupation_Craft-repair</th>\n",
       "      <th>occupation_Exec-managerial</th>\n",
       "      <th>occupation_Farming-fishing</th>\n",
       "      <th>occupation_Handlers-cleaners</th>\n",
       "      <th>occupation_Machine-op-inspct</th>\n",
       "      <th>occupation_Other-service</th>\n",
       "      <th>occupation_Prof-specialty</th>\n",
       "      <th>occupation_Protective-serv</th>\n",
       "      <th>occupation_Sales</th>\n",
       "      <th>occupation_Tech-support</th>\n",
       "      <th>occupation_Transport-moving</th>\n",
       "    </tr>\n",
       "  </thead>\n",
       "  <tbody>\n",
       "    <tr>\n",
       "      <th>0</th>\n",
       "      <td>1</td>\n",
       "      <td>1</td>\n",
       "      <td>1</td>\n",
       "      <td>0</td>\n",
       "      <td>0</td>\n",
       "      <td>0</td>\n",
       "      <td>0</td>\n",
       "      <td>0</td>\n",
       "      <td>0</td>\n",
       "      <td>1</td>\n",
       "      <td>0</td>\n",
       "      <td>0</td>\n",
       "      <td>0</td>\n",
       "      <td>1</td>\n",
       "      <td>0</td>\n",
       "      <td>0</td>\n",
       "      <td>1</td>\n",
       "      <td>0</td>\n",
       "      <td>0</td>\n",
       "      <td>0</td>\n",
       "      <td>0</td>\n",
       "      <td>0</td>\n",
       "      <td>0</td>\n",
       "      <td>0</td>\n",
       "      <td>0</td>\n",
       "      <td>0</td>\n",
       "      <td>0</td>\n",
       "      <td>0</td>\n",
       "    </tr>\n",
       "    <tr>\n",
       "      <th>1</th>\n",
       "      <td>1</td>\n",
       "      <td>1</td>\n",
       "      <td>1</td>\n",
       "      <td>0</td>\n",
       "      <td>0</td>\n",
       "      <td>0</td>\n",
       "      <td>0</td>\n",
       "      <td>0</td>\n",
       "      <td>1</td>\n",
       "      <td>0</td>\n",
       "      <td>0</td>\n",
       "      <td>1</td>\n",
       "      <td>0</td>\n",
       "      <td>0</td>\n",
       "      <td>0</td>\n",
       "      <td>0</td>\n",
       "      <td>0</td>\n",
       "      <td>0</td>\n",
       "      <td>1</td>\n",
       "      <td>0</td>\n",
       "      <td>0</td>\n",
       "      <td>0</td>\n",
       "      <td>0</td>\n",
       "      <td>0</td>\n",
       "      <td>0</td>\n",
       "      <td>0</td>\n",
       "      <td>0</td>\n",
       "      <td>0</td>\n",
       "    </tr>\n",
       "    <tr>\n",
       "      <th>2</th>\n",
       "      <td>1</td>\n",
       "      <td>1</td>\n",
       "      <td>1</td>\n",
       "      <td>0</td>\n",
       "      <td>0</td>\n",
       "      <td>0</td>\n",
       "      <td>1</td>\n",
       "      <td>0</td>\n",
       "      <td>0</td>\n",
       "      <td>0</td>\n",
       "      <td>1</td>\n",
       "      <td>0</td>\n",
       "      <td>0</td>\n",
       "      <td>0</td>\n",
       "      <td>0</td>\n",
       "      <td>0</td>\n",
       "      <td>0</td>\n",
       "      <td>0</td>\n",
       "      <td>0</td>\n",
       "      <td>0</td>\n",
       "      <td>1</td>\n",
       "      <td>0</td>\n",
       "      <td>0</td>\n",
       "      <td>0</td>\n",
       "      <td>0</td>\n",
       "      <td>0</td>\n",
       "      <td>0</td>\n",
       "      <td>0</td>\n",
       "    </tr>\n",
       "    <tr>\n",
       "      <th>3</th>\n",
       "      <td>0</td>\n",
       "      <td>1</td>\n",
       "      <td>1</td>\n",
       "      <td>0</td>\n",
       "      <td>0</td>\n",
       "      <td>0</td>\n",
       "      <td>1</td>\n",
       "      <td>0</td>\n",
       "      <td>0</td>\n",
       "      <td>0</td>\n",
       "      <td>0</td>\n",
       "      <td>1</td>\n",
       "      <td>0</td>\n",
       "      <td>0</td>\n",
       "      <td>0</td>\n",
       "      <td>0</td>\n",
       "      <td>0</td>\n",
       "      <td>0</td>\n",
       "      <td>0</td>\n",
       "      <td>0</td>\n",
       "      <td>1</td>\n",
       "      <td>0</td>\n",
       "      <td>0</td>\n",
       "      <td>0</td>\n",
       "      <td>0</td>\n",
       "      <td>0</td>\n",
       "      <td>0</td>\n",
       "      <td>0</td>\n",
       "    </tr>\n",
       "    <tr>\n",
       "      <th>4</th>\n",
       "      <td>0</td>\n",
       "      <td>0</td>\n",
       "      <td>0</td>\n",
       "      <td>0</td>\n",
       "      <td>0</td>\n",
       "      <td>0</td>\n",
       "      <td>1</td>\n",
       "      <td>0</td>\n",
       "      <td>0</td>\n",
       "      <td>0</td>\n",
       "      <td>0</td>\n",
       "      <td>1</td>\n",
       "      <td>0</td>\n",
       "      <td>0</td>\n",
       "      <td>0</td>\n",
       "      <td>0</td>\n",
       "      <td>0</td>\n",
       "      <td>0</td>\n",
       "      <td>0</td>\n",
       "      <td>0</td>\n",
       "      <td>0</td>\n",
       "      <td>0</td>\n",
       "      <td>0</td>\n",
       "      <td>1</td>\n",
       "      <td>0</td>\n",
       "      <td>0</td>\n",
       "      <td>0</td>\n",
       "      <td>0</td>\n",
       "    </tr>\n",
       "  </tbody>\n",
       "</table>\n",
       "</div>"
      ],
      "text/plain": [
       "   race-white  sex-male  ...  occupation_Tech-support  occupation_Transport-moving\n",
       "0           1         1  ...                        0                            0\n",
       "1           1         1  ...                        0                            0\n",
       "2           1         1  ...                        0                            0\n",
       "3           0         1  ...                        0                            0\n",
       "4           0         0  ...                        0                            0\n",
       "\n",
       "[5 rows x 28 columns]"
      ]
     },
     "execution_count": 25,
     "metadata": {
      "tags": []
     },
     "output_type": "execute_result"
    }
   ],
   "source": [
    "X = df[['workclass','marital-status','race-white','sex-male','occupation','country-USA']]\n",
    "X.head()\n",
    "X = pd.get_dummies(X, columns=['workclass','marital-status','occupation'])\n",
    "X.head()\n",
    "#Train set accuracy: 0.821048321048321\n",
    "#Test set accuracy: 0.8212750276378823"
   ]
  },
  {
   "cell_type": "code",
   "execution_count": null,
   "metadata": {
    "id": "lO2c3VSMEBOg"
   },
   "outputs": [],
   "source": [
    "#X = df[['workclass','marital-status','race-white','sex-male','occupation']]\n",
    "#X.head()\n",
    "#X = pd.get_dummies(X, columns=['workclass','marital-status','occupation'])\n",
    "#X.head()\n",
    "#Train set accuracy: 0.8205978705978706\n",
    "#Test set accuracy: 0.820292347377472\n",
    "\n",
    "#X = df[['workclass','marital-status','race-white','sex-male','education','country-USA']]\n",
    "#X.head()\n",
    "#X = pd.get_dummies(X, columns=['workclass','marital-status','education'])\n",
    "#X.head()\n",
    "#Train set accuracy: 0.8235872235872236\n",
    "#Test set accuracy: 0.8210293575727797\n",
    "#początki overfittingu\n",
    "\n",
    "#X = df[['workclass','marital-status','race-white','sex-male','occupation','relationship']]\n",
    "#X.head()\n",
    "#X = pd.get_dummies(X, columns=['workclass','marital-status','occupation','relationship'])\n",
    "#X.head()\n",
    "#Train set accuracy: 0.8209664209664209\n",
    "#Test set accuracy: 0.820292347377472\n",
    "\n",
    "#X = df[['marital-status','race-white','sex-male','education','country-USA']]\n",
    "#X.head()\n",
    "#X = pd.get_dummies(X, columns=['marital-status','education'])\n",
    "#X.head()\n",
    "#Train set accuracy: 0.8210892710892711\n",
    "#Test set accuracy: 0.8177128116938951\n",
    "\n",
    "#X = df[['hours-per-week','marital-status','race-white','sex-male','education','country-USA']]\n",
    "#X.head()\n",
    "#X = pd.get_dummies(X, columns=['marital-status','education'])\n",
    "#X.head()\n",
    "#Train set accuracy: 0.8202702702702702\n",
    "#Test set accuracy: 0.8210293575727797\n",
    "\n",
    "#X = df[['hours-per-week','marital-status','race-white','sex-male','occupation','country-USA']]\n",
    "#X.head()\n",
    "#X = pd.get_dummies(X, columns=['marital-status','occupation'])\n",
    "#X.head()\n",
    "#Train set accuracy: 0.81998361998362\n",
    "#Test set accuracy: 0.8221348728657413"
   ]
  },
  {
   "cell_type": "markdown",
   "metadata": {
    "id": "t6-EROCaEBPk"
   },
   "source": [
    "## Task 4 - Logistic Regression\n",
    "Train and test a logistic regression model. If you want to get a maximum score you must be sure that your model:\n",
    "- Do not overfit\n",
    "- Do not underfit\n",
    "- Achieves at least 80% accuracy on the test subset."
   ]
  },
  {
   "cell_type": "code",
   "execution_count": null,
   "metadata": {
    "colab": {
     "base_uri": "https://localhost:8080/"
    },
    "id": "L3-qC504EBPl",
    "outputId": "783d6ddc-43ce-434a-bcdd-ce396b1e9ab5"
   },
   "outputs": [
    {
     "name": "stdout",
     "output_type": "stream",
     "text": [
      "X train: (24420, 28)\n",
      "y train: (24420,)\n",
      "X test: (8141, 28)\n",
      "y test: (8141,)\n"
     ]
    }
   ],
   "source": [
    "from sklearn.model_selection import train_test_split\n",
    "X_train, X_test, y_train, y_test = train_test_split(X, y, test_size = 0.25, stratify = y, random_state=1)\n",
    "\n",
    "print (\"X train:\", X_train.shape)\n",
    "print (\"y train:\", y_train.shape)\n",
    "print (\"X test:\", X_test.shape)\n",
    "print (\"y test:\", y_test.shape)"
   ]
  },
  {
   "cell_type": "code",
   "execution_count": null,
   "metadata": {
    "colab": {
     "base_uri": "https://localhost:8080/"
    },
    "id": "y-3m4Kd1EBPv",
    "outputId": "883a489a-d921-4983-977b-c25914c1997c"
   },
   "outputs": [
    {
     "name": "stdout",
     "output_type": "stream",
     "text": [
      "Po treningu, można już zjeść Snickersa\n"
     ]
    }
   ],
   "source": [
    "from sklearn.linear_model import LogisticRegression\n",
    "\n",
    "model = LogisticRegression()\n",
    "model.fit(X_train, y_train)\n",
    "\n",
    "print('Po treningu, można już zjeść Snickersa')"
   ]
  },
  {
   "cell_type": "code",
   "execution_count": null,
   "metadata": {
    "colab": {
     "base_uri": "https://localhost:8080/"
    },
    "id": "DSxBS9hNEBP7",
    "outputId": "3873a7b5-0d4e-4554-aea6-7effd89635a1"
   },
   "outputs": [
    {
     "name": "stdout",
     "output_type": "stream",
     "text": [
      "Train set accuracy: 0.821048321048321\n",
      "Test set accuracy: 0.8212750276378823\n"
     ]
    }
   ],
   "source": [
    "print (\"Train set accuracy:\", model.score(X_train, y_train))\n",
    "print (\"Test set accuracy:\", model.score(X_test, y_test))"
   ]
  },
  {
   "cell_type": "markdown",
   "metadata": {
    "id": "45dhSwXZEBQN"
   },
   "source": [
    "## Task 5 - Precision and recall\n",
    "- Compute precision and recall for your model, for both, train and test subsets.\n",
    "- Make sure that you understand these metrics, you may be asked to explain the meaning of it."
   ]
  },
  {
   "cell_type": "code",
   "execution_count": null,
   "metadata": {
    "colab": {
     "base_uri": "https://localhost:8080/"
    },
    "id": "xf5Rxx6qSWwq",
    "outputId": "11947877-e95b-4375-9ddb-94cfbb18b67a"
   },
   "outputs": [
    {
     "name": "stdout",
     "output_type": "stream",
     "text": [
      "Wartość PRECISION dla następujących zbiorów danych:\n",
      "dla testowego:  0.6534954407294833 \n",
      "dla treningowego:  0.6556769008860499\n"
     ]
    }
   ],
   "source": [
    "#Precision\n",
    "from sklearn.metrics import precision_score\n",
    "\n",
    "testowe=model.predict(X_test)\n",
    "treningowe = model.predict(X_train)\n",
    "\n",
    "test_precision = precision_score(y_test, testowe)\n",
    "train_precision = precision_score(y_train, treningowe)\n",
    "\n",
    "print(\"Wartość PRECISION dla następujących zbiorów danych:\\ndla testowego: \",test_precision, \"\\ndla treningowego: \", train_precision)"
   ]
  },
  {
   "cell_type": "code",
   "execution_count": null,
   "metadata": {
    "colab": {
     "base_uri": "https://localhost:8080/"
    },
    "id": "LAhva8bXUauu",
    "outputId": "ea99aa08-5c53-4bd7-f753-528a3f362f94"
   },
   "outputs": [
    {
     "name": "stdout",
     "output_type": "stream",
     "text": [
      "Wartość RECALL dla następujących zbiorów danych:\n",
      "dla testowego:  0.548469387755102 \n",
      "dla treningowego:  0.5410644448223091\n"
     ]
    }
   ],
   "source": [
    "#Recall\n",
    "from sklearn.metrics import recall_score\n",
    "\n",
    "test_recall = recall_score(y_test, testowe)\n",
    "train_recall = recall_score(y_train, treningowe)\n",
    "\n",
    "print(\"Wartość RECALL dla następujących zbiorów danych:\\ndla testowego: \",test_recall, \"\\ndla treningowego: \", train_recall)"
   ]
  },
  {
   "cell_type": "markdown",
   "metadata": {
    "id": "V_Esh0iWEBQp"
   },
   "source": [
    "## Task 6: Applying the model\n",
    "Use your model to check if you will earn above 50,000$ per year. Check both the response from the model (true/false) and the probability that the response will be true. Check using the data about yourself:\n",
    "- right now\n",
    "- two years from now\n",
    "- ten years from now"
   ]
  },
  {
   "cell_type": "code",
   "execution_count": null,
   "metadata": {
    "colab": {
     "base_uri": "https://localhost:8080/"
    },
    "id": "CTwfUvRIEBQ6",
    "outputId": "3bab9f7f-9b90-44e4-82f2-8e58385e2565"
   },
   "outputs": [
    {
     "name": "stdout",
     "output_type": "stream",
     "text": [
      "[0 0 1]\n"
     ]
    }
   ],
   "source": [
    "madzia = [[1,0,1,0,0,0,0,0,0,0,0,0,0,1,0,0,0,0,0,0,0,0,0,0,0,0,0,0], #white, non-male,workclass_?,never-married\n",
    "          [1,0,0,0,0,0,1,0,0,0,0,0,0,1,0,0,0,0,0,0,0,0,0,1,0,0,0,0], #to samo, tylko workclass_self emp inc, prof specialty\n",
    "          [1,0,1,0,0,0,1,0,0,0,0,1,0,0,0,0,0,0,0,0,0,0,0,1,0,0,0,0]] #to samo tylko married\n",
    "\n",
    "madzia_df = pd.DataFrame(madzia,columns=X.columns)\n",
    "wynik=model.predict(madzia_df)  \n",
    "print(wynik)       "
   ]
  },
  {
   "cell_type": "code",
   "execution_count": null,
   "metadata": {
    "colab": {
     "base_uri": "https://localhost:8080/"
    },
    "id": "UPPghWIt8-gw",
    "outputId": "d912e665-c6d1-459c-d485-a309afb1a0f2"
   },
   "outputs": [
    {
     "name": "stdout",
     "output_type": "stream",
     "text": [
      "Prawdopodobieństwo wyrzucenia przez model danej etykiety (odpowiednio dla 0 i 1):\n",
      " [[0.96566358 0.03433642]\n",
      " [0.91318364 0.08681636]\n",
      " [0.34697834 0.65302166]]\n"
     ]
    }
   ],
   "source": [
    "p=model.predict_proba(madzia_df)\n",
    "print(\"Prawdopodobieństwo wyrzucenia przez model danej etykiety (odpowiednio dla 0 i 1):\\n\",p)"
   ]
  },
  {
   "cell_type": "code",
   "execution_count": null,
   "metadata": {
    "id": "7dw0aJtmWnjl"
   },
   "outputs": [],
   "source": []
  }
 ],
 "metadata": {
  "colab": {
   "collapsed_sections": [],
   "name": "link_LogisticRegression_zadanieCensus.ipynb",
   "provenance": []
  },
  "kernelspec": {
   "display_name": "Python 3",
   "language": "python",
   "name": "python3"
  },
  "language_info": {
   "codemirror_mode": {
    "name": "ipython",
    "version": 3
   },
   "file_extension": ".py",
   "mimetype": "text/x-python",
   "name": "python",
   "nbconvert_exporter": "python",
   "pygments_lexer": "ipython3",
   "version": "3.7.3"
  }
 },
 "nbformat": 4,
 "nbformat_minor": 1
}
