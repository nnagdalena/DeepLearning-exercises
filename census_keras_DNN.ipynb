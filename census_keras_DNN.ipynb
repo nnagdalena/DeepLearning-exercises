{
 "cells": [
  {
   "cell_type": "markdown",
   "metadata": {
    "id": "FgNSHwqY4llu"
   },
   "source": [
    "# Census Income Example\n",
    "This is a Keras example of classification problem. To simplify the data preparation part I used the Census problem from the Sci-Kit Learn class.\n",
    "\n",
    "The dataset comes from http://archive.ics.uci.edu/. \n",
    "\n",
    "Data extraction was done by Barry Becker from the 1994 Census database. A set of reasonably clean records was extracted using the following conditions: ((AAGE>16) && (AGI>100) && (AFNLWGT>1)&& (HRSWK>0)). The data was also preprocessed for the purpose of this example.\n",
    "\n",
    "Prediction task is to determine whether a person makes over 50K a year.\n",
    "\n",
    "\n",
    "### List of attributes:\n",
    "\n",
    "##### Features\n",
    "- age: continuous. \n",
    "- workclass: Private, Self-emp-not-inc, Self-emp-inc, Federal-gov, Local-gov, State-gov, Without-pay, Never-worked. \n",
    "- education: Bachelors, Some-college, 11th, HS-grad, Prof-school, Assoc-acdm, Assoc-voc, 9th, 7th-8th, 12th, Masters, 1st-4th, - 10th, Doctorate, 5th-6th, Preschool. \n",
    "- education-num: continuous. \n",
    "- marital-status: Married-civ-spouse, Divorced, Never-married, Separated, Widowed, Married-spouse-absent, Married-AF-spouse. \n",
    "- occupation: Tech-support, Craft-repair, Other-service, Sales, Exec-managerial, Prof-specialty, Handlers-cleaners, Machine-op-inspct, Adm-clerical, Farming-fishing, Transport-moving, Priv-house-serv, Protective-serv, Armed-Forces. \n",
    "- relationship: Wife, Own-child, Husband, Not-in-family, Other-relative, Unmarried. \n",
    "- race: White, Asian-Pac-Islander, Amer-Indian-Eskimo, Other, Black. \n",
    "- sex: Female, Male. \n",
    "- hours-per-week: continuous. \n",
    "- native-country: United-States, Cambodia, England, Puerto-Rico, Canada, Germany, Outlying-US(Guam-USVI-etc), India, Japan, Greece, South, China, Cuba, Iran, Honduras, Philippines, Italy, Poland, Jamaica, Vietnam, Mexico, Portugal, Ireland, France, Dominican-Republic, Laos, Ecuador, Taiwan, Haiti, Columbia, Hungary, Guatemala, Nicaragua, Scotland, Thailand, Yugoslavia, El-Salvador, Trinadad&Tobago, Peru, Hong, Holand-Netherlands.\n",
    "\n",
    "\n",
    "\n",
    "##### Labels\n",
    "- income - >50K, <=50K. "
   ]
  },
  {
   "cell_type": "markdown",
   "metadata": {
    "id": "qNpGjPzE4llv"
   },
   "source": [
    "# Install tensorflow\n",
    "If necessary uncomment one of the lines below"
   ]
  },
  {
   "cell_type": "code",
   "execution_count": null,
   "metadata": {
    "id": "62gDUSPp4llw"
   },
   "outputs": [],
   "source": [
    "# For tensorflow with CPU support only\n",
    "#!pip install tensorflow\n",
    "# For GPU version of tensorflow\n",
    "#!pip install tensorflow-gpu"
   ]
  },
  {
   "cell_type": "markdown",
   "metadata": {
    "id": "CzRSg_Tg4llw"
   },
   "source": [
    "# Imports"
   ]
  },
  {
   "cell_type": "code",
   "execution_count": null,
   "metadata": {
    "id": "or9m-njg4llx"
   },
   "outputs": [],
   "source": [
    "import pandas as pd\n",
    "import numpy as np\n",
    "import tensorflow as tf\n",
    "\n",
    "import matplotlib.pyplot as plt\n",
    "%matplotlib inline"
   ]
  },
  {
   "cell_type": "markdown",
   "metadata": {
    "id": "GIO2TfE-4llx"
   },
   "source": [
    "### Load dataset"
   ]
  },
  {
   "cell_type": "code",
   "execution_count": null,
   "metadata": {
    "colab": {
     "base_uri": "https://localhost:8080/",
     "height": 298
    },
    "id": "c6MSzeOJ4llx",
    "outputId": "fc94a3b9-bb9c-468c-c08c-5067b9ae2fac"
   },
   "outputs": [
    {
     "name": "stdout",
     "output_type": "stream",
     "text": [
      "(32561, 12)\n",
      "Index(['age', 'workclass', 'education', 'education-num', 'marital-status',\n",
      "       'occupation', 'relationship', 'race', 'sex', 'hours-per-week',\n",
      "       'native-country', 'income'],\n",
      "      dtype='object')\n"
     ]
    },
    {
     "data": {
      "text/html": [
       "<div>\n",
       "<style scoped>\n",
       "    .dataframe tbody tr th:only-of-type {\n",
       "        vertical-align: middle;\n",
       "    }\n",
       "\n",
       "    .dataframe tbody tr th {\n",
       "        vertical-align: top;\n",
       "    }\n",
       "\n",
       "    .dataframe thead th {\n",
       "        text-align: right;\n",
       "    }\n",
       "</style>\n",
       "<table border=\"1\" class=\"dataframe\">\n",
       "  <thead>\n",
       "    <tr style=\"text-align: right;\">\n",
       "      <th></th>\n",
       "      <th>age</th>\n",
       "      <th>workclass</th>\n",
       "      <th>education</th>\n",
       "      <th>education-num</th>\n",
       "      <th>marital-status</th>\n",
       "      <th>occupation</th>\n",
       "      <th>relationship</th>\n",
       "      <th>race</th>\n",
       "      <th>sex</th>\n",
       "      <th>hours-per-week</th>\n",
       "      <th>native-country</th>\n",
       "      <th>income</th>\n",
       "    </tr>\n",
       "  </thead>\n",
       "  <tbody>\n",
       "    <tr>\n",
       "      <th>0</th>\n",
       "      <td>39</td>\n",
       "      <td>State-gov</td>\n",
       "      <td>Bachelors</td>\n",
       "      <td>13</td>\n",
       "      <td>Never-married</td>\n",
       "      <td>Adm-clerical</td>\n",
       "      <td>Not-in-family</td>\n",
       "      <td>White</td>\n",
       "      <td>Male</td>\n",
       "      <td>40</td>\n",
       "      <td>United-States</td>\n",
       "      <td>&lt;=50K</td>\n",
       "    </tr>\n",
       "    <tr>\n",
       "      <th>1</th>\n",
       "      <td>50</td>\n",
       "      <td>Self-emp-not-inc</td>\n",
       "      <td>Bachelors</td>\n",
       "      <td>13</td>\n",
       "      <td>Married-civ-spouse</td>\n",
       "      <td>Exec-managerial</td>\n",
       "      <td>Husband</td>\n",
       "      <td>White</td>\n",
       "      <td>Male</td>\n",
       "      <td>13</td>\n",
       "      <td>United-States</td>\n",
       "      <td>&lt;=50K</td>\n",
       "    </tr>\n",
       "    <tr>\n",
       "      <th>2</th>\n",
       "      <td>38</td>\n",
       "      <td>Private</td>\n",
       "      <td>HS-grad</td>\n",
       "      <td>9</td>\n",
       "      <td>Divorced</td>\n",
       "      <td>Handlers-cleaners</td>\n",
       "      <td>Not-in-family</td>\n",
       "      <td>White</td>\n",
       "      <td>Male</td>\n",
       "      <td>40</td>\n",
       "      <td>United-States</td>\n",
       "      <td>&lt;=50K</td>\n",
       "    </tr>\n",
       "    <tr>\n",
       "      <th>3</th>\n",
       "      <td>53</td>\n",
       "      <td>Private</td>\n",
       "      <td>11th</td>\n",
       "      <td>7</td>\n",
       "      <td>Married-civ-spouse</td>\n",
       "      <td>Handlers-cleaners</td>\n",
       "      <td>Husband</td>\n",
       "      <td>Black</td>\n",
       "      <td>Male</td>\n",
       "      <td>40</td>\n",
       "      <td>United-States</td>\n",
       "      <td>&lt;=50K</td>\n",
       "    </tr>\n",
       "    <tr>\n",
       "      <th>4</th>\n",
       "      <td>28</td>\n",
       "      <td>Private</td>\n",
       "      <td>Bachelors</td>\n",
       "      <td>13</td>\n",
       "      <td>Married-civ-spouse</td>\n",
       "      <td>Prof-specialty</td>\n",
       "      <td>Wife</td>\n",
       "      <td>Black</td>\n",
       "      <td>Female</td>\n",
       "      <td>40</td>\n",
       "      <td>Cuba</td>\n",
       "      <td>&lt;=50K</td>\n",
       "    </tr>\n",
       "  </tbody>\n",
       "</table>\n",
       "</div>"
      ],
      "text/plain": [
       "   age         workclass  education  ...  hours-per-week native-country income\n",
       "0   39         State-gov  Bachelors  ...              40  United-States  <=50K\n",
       "1   50  Self-emp-not-inc  Bachelors  ...              13  United-States  <=50K\n",
       "2   38           Private    HS-grad  ...              40  United-States  <=50K\n",
       "3   53           Private       11th  ...              40  United-States  <=50K\n",
       "4   28           Private  Bachelors  ...              40           Cuba  <=50K\n",
       "\n",
       "[5 rows x 12 columns]"
      ]
     },
     "execution_count": 4,
     "metadata": {
      "tags": []
     },
     "output_type": "execute_result"
    }
   ],
   "source": [
    "df = pd.read_csv(\"https://github.com/PrzemekSekula/DeepLearningClasses1/raw/master/data/census.csv\")\n",
    "\n",
    "print (df.shape)\n",
    "print (df.columns)\n",
    "df.head()"
   ]
  },
  {
   "cell_type": "markdown",
   "metadata": {
    "id": "ZsfXU5g64llx"
   },
   "source": [
    "# Data preparation\n",
    "### Selecting columns\n",
    "Personaly I decided to delete the following columns:\n",
    "- education - we have education-num, this is enough\n",
    "- marital status - too many classes\n",
    "- relationship - I am not sure if it is useful, and there are many classes\n",
    "- race - I am not sure if it is useful\n",
    "- native-country - too many classes\n",
    "\n",
    "**I deleted many columns just to make the task easier to read. Students are encouraged to experiment with the columns and check if they can improve the results.**\n"
   ]
  },
  {
   "cell_type": "code",
   "execution_count": null,
   "metadata": {
    "colab": {
     "base_uri": "https://localhost:8080/",
     "height": 206
    },
    "id": "NXG89pVA4lly",
    "outputId": "24076550-b379-49b6-aab4-3ebab40c6597"
   },
   "outputs": [
    {
     "data": {
      "text/html": [
       "<div>\n",
       "<style scoped>\n",
       "    .dataframe tbody tr th:only-of-type {\n",
       "        vertical-align: middle;\n",
       "    }\n",
       "\n",
       "    .dataframe tbody tr th {\n",
       "        vertical-align: top;\n",
       "    }\n",
       "\n",
       "    .dataframe thead th {\n",
       "        text-align: right;\n",
       "    }\n",
       "</style>\n",
       "<table border=\"1\" class=\"dataframe\">\n",
       "  <thead>\n",
       "    <tr style=\"text-align: right;\">\n",
       "      <th></th>\n",
       "      <th>age</th>\n",
       "      <th>workclass</th>\n",
       "      <th>education-num</th>\n",
       "      <th>occupation</th>\n",
       "      <th>sex</th>\n",
       "      <th>hours-per-week</th>\n",
       "      <th>income</th>\n",
       "    </tr>\n",
       "  </thead>\n",
       "  <tbody>\n",
       "    <tr>\n",
       "      <th>0</th>\n",
       "      <td>39</td>\n",
       "      <td>State-gov</td>\n",
       "      <td>13</td>\n",
       "      <td>Adm-clerical</td>\n",
       "      <td>Male</td>\n",
       "      <td>40</td>\n",
       "      <td>&lt;=50K</td>\n",
       "    </tr>\n",
       "    <tr>\n",
       "      <th>1</th>\n",
       "      <td>50</td>\n",
       "      <td>Self-emp-not-inc</td>\n",
       "      <td>13</td>\n",
       "      <td>Exec-managerial</td>\n",
       "      <td>Male</td>\n",
       "      <td>13</td>\n",
       "      <td>&lt;=50K</td>\n",
       "    </tr>\n",
       "    <tr>\n",
       "      <th>2</th>\n",
       "      <td>38</td>\n",
       "      <td>Private</td>\n",
       "      <td>9</td>\n",
       "      <td>Handlers-cleaners</td>\n",
       "      <td>Male</td>\n",
       "      <td>40</td>\n",
       "      <td>&lt;=50K</td>\n",
       "    </tr>\n",
       "    <tr>\n",
       "      <th>3</th>\n",
       "      <td>53</td>\n",
       "      <td>Private</td>\n",
       "      <td>7</td>\n",
       "      <td>Handlers-cleaners</td>\n",
       "      <td>Male</td>\n",
       "      <td>40</td>\n",
       "      <td>&lt;=50K</td>\n",
       "    </tr>\n",
       "    <tr>\n",
       "      <th>4</th>\n",
       "      <td>28</td>\n",
       "      <td>Private</td>\n",
       "      <td>13</td>\n",
       "      <td>Prof-specialty</td>\n",
       "      <td>Female</td>\n",
       "      <td>40</td>\n",
       "      <td>&lt;=50K</td>\n",
       "    </tr>\n",
       "  </tbody>\n",
       "</table>\n",
       "</div>"
      ],
      "text/plain": [
       "   age         workclass  education-num  ...     sex hours-per-week  income\n",
       "0   39         State-gov             13  ...    Male             40   <=50K\n",
       "1   50  Self-emp-not-inc             13  ...    Male             13   <=50K\n",
       "2   38           Private              9  ...    Male             40   <=50K\n",
       "3   53           Private              7  ...    Male             40   <=50K\n",
       "4   28           Private             13  ...  Female             40   <=50K\n",
       "\n",
       "[5 rows x 7 columns]"
      ]
     },
     "execution_count": 5,
     "metadata": {
      "tags": []
     },
     "output_type": "execute_result"
    }
   ],
   "source": [
    "df = df[['age', 'workclass', 'education-num', 'occupation', \n",
    "         'sex', 'hours-per-week', 'income']]\n",
    "\n",
    "df.head()"
   ]
  },
  {
   "cell_type": "markdown",
   "metadata": {
    "id": "atP9RnST4llz"
   },
   "source": [
    "### Data preprocessing"
   ]
  },
  {
   "cell_type": "markdown",
   "metadata": {
    "id": "CQrcsL9b4llz"
   },
   "source": [
    "#### First step - change the labels into binary values."
   ]
  },
  {
   "cell_type": "code",
   "execution_count": null,
   "metadata": {
    "colab": {
     "base_uri": "https://localhost:8080/",
     "height": 261
    },
    "id": "kk7g4PqQ4llz",
    "outputId": "cac50238-a071-4007-f39a-16aa42a25836"
   },
   "outputs": [
    {
     "name": "stdout",
     "output_type": "stream",
     "text": [
      "0    24720\n",
      "1     7841\n",
      "Name: income, dtype: int64\n"
     ]
    },
    {
     "data": {
      "text/html": [
       "<div>\n",
       "<style scoped>\n",
       "    .dataframe tbody tr th:only-of-type {\n",
       "        vertical-align: middle;\n",
       "    }\n",
       "\n",
       "    .dataframe tbody tr th {\n",
       "        vertical-align: top;\n",
       "    }\n",
       "\n",
       "    .dataframe thead th {\n",
       "        text-align: right;\n",
       "    }\n",
       "</style>\n",
       "<table border=\"1\" class=\"dataframe\">\n",
       "  <thead>\n",
       "    <tr style=\"text-align: right;\">\n",
       "      <th></th>\n",
       "      <th>age</th>\n",
       "      <th>workclass</th>\n",
       "      <th>education-num</th>\n",
       "      <th>occupation</th>\n",
       "      <th>sex</th>\n",
       "      <th>hours-per-week</th>\n",
       "      <th>income</th>\n",
       "    </tr>\n",
       "  </thead>\n",
       "  <tbody>\n",
       "    <tr>\n",
       "      <th>0</th>\n",
       "      <td>39</td>\n",
       "      <td>State-gov</td>\n",
       "      <td>13</td>\n",
       "      <td>Adm-clerical</td>\n",
       "      <td>Male</td>\n",
       "      <td>40</td>\n",
       "      <td>0</td>\n",
       "    </tr>\n",
       "    <tr>\n",
       "      <th>1</th>\n",
       "      <td>50</td>\n",
       "      <td>Self-emp-not-inc</td>\n",
       "      <td>13</td>\n",
       "      <td>Exec-managerial</td>\n",
       "      <td>Male</td>\n",
       "      <td>13</td>\n",
       "      <td>0</td>\n",
       "    </tr>\n",
       "    <tr>\n",
       "      <th>2</th>\n",
       "      <td>38</td>\n",
       "      <td>Private</td>\n",
       "      <td>9</td>\n",
       "      <td>Handlers-cleaners</td>\n",
       "      <td>Male</td>\n",
       "      <td>40</td>\n",
       "      <td>0</td>\n",
       "    </tr>\n",
       "    <tr>\n",
       "      <th>3</th>\n",
       "      <td>53</td>\n",
       "      <td>Private</td>\n",
       "      <td>7</td>\n",
       "      <td>Handlers-cleaners</td>\n",
       "      <td>Male</td>\n",
       "      <td>40</td>\n",
       "      <td>0</td>\n",
       "    </tr>\n",
       "    <tr>\n",
       "      <th>4</th>\n",
       "      <td>28</td>\n",
       "      <td>Private</td>\n",
       "      <td>13</td>\n",
       "      <td>Prof-specialty</td>\n",
       "      <td>Female</td>\n",
       "      <td>40</td>\n",
       "      <td>0</td>\n",
       "    </tr>\n",
       "  </tbody>\n",
       "</table>\n",
       "</div>"
      ],
      "text/plain": [
       "   age         workclass  education-num  ...     sex hours-per-week  income\n",
       "0   39         State-gov             13  ...    Male             40       0\n",
       "1   50  Self-emp-not-inc             13  ...    Male             13       0\n",
       "2   38           Private              9  ...    Male             40       0\n",
       "3   53           Private              7  ...    Male             40       0\n",
       "4   28           Private             13  ...  Female             40       0\n",
       "\n",
       "[5 rows x 7 columns]"
      ]
     },
     "execution_count": 6,
     "metadata": {
      "tags": []
     },
     "output_type": "execute_result"
    }
   ],
   "source": [
    "df.income = (df.income == '>50K').astype(int)\n",
    "print (df.income.value_counts())\n",
    "df.head()"
   ]
  },
  {
   "cell_type": "markdown",
   "metadata": {
    "id": "PFSYidyI4llz"
   },
   "source": [
    "#### Second step - change the `sex` column into binary values"
   ]
  },
  {
   "cell_type": "code",
   "execution_count": null,
   "metadata": {
    "colab": {
     "base_uri": "https://localhost:8080/",
     "height": 206
    },
    "id": "DYDXMng24llz",
    "outputId": "82ec16ae-23aa-4b41-f5ab-1e938ad39b67"
   },
   "outputs": [
    {
     "data": {
      "text/html": [
       "<div>\n",
       "<style scoped>\n",
       "    .dataframe tbody tr th:only-of-type {\n",
       "        vertical-align: middle;\n",
       "    }\n",
       "\n",
       "    .dataframe tbody tr th {\n",
       "        vertical-align: top;\n",
       "    }\n",
       "\n",
       "    .dataframe thead th {\n",
       "        text-align: right;\n",
       "    }\n",
       "</style>\n",
       "<table border=\"1\" class=\"dataframe\">\n",
       "  <thead>\n",
       "    <tr style=\"text-align: right;\">\n",
       "      <th></th>\n",
       "      <th>age</th>\n",
       "      <th>workclass</th>\n",
       "      <th>education-num</th>\n",
       "      <th>occupation</th>\n",
       "      <th>hours-per-week</th>\n",
       "      <th>income</th>\n",
       "      <th>sex_Male</th>\n",
       "    </tr>\n",
       "  </thead>\n",
       "  <tbody>\n",
       "    <tr>\n",
       "      <th>0</th>\n",
       "      <td>39</td>\n",
       "      <td>State-gov</td>\n",
       "      <td>13</td>\n",
       "      <td>Adm-clerical</td>\n",
       "      <td>40</td>\n",
       "      <td>0</td>\n",
       "      <td>1</td>\n",
       "    </tr>\n",
       "    <tr>\n",
       "      <th>1</th>\n",
       "      <td>50</td>\n",
       "      <td>Self-emp-not-inc</td>\n",
       "      <td>13</td>\n",
       "      <td>Exec-managerial</td>\n",
       "      <td>13</td>\n",
       "      <td>0</td>\n",
       "      <td>1</td>\n",
       "    </tr>\n",
       "    <tr>\n",
       "      <th>2</th>\n",
       "      <td>38</td>\n",
       "      <td>Private</td>\n",
       "      <td>9</td>\n",
       "      <td>Handlers-cleaners</td>\n",
       "      <td>40</td>\n",
       "      <td>0</td>\n",
       "      <td>1</td>\n",
       "    </tr>\n",
       "    <tr>\n",
       "      <th>3</th>\n",
       "      <td>53</td>\n",
       "      <td>Private</td>\n",
       "      <td>7</td>\n",
       "      <td>Handlers-cleaners</td>\n",
       "      <td>40</td>\n",
       "      <td>0</td>\n",
       "      <td>1</td>\n",
       "    </tr>\n",
       "    <tr>\n",
       "      <th>4</th>\n",
       "      <td>28</td>\n",
       "      <td>Private</td>\n",
       "      <td>13</td>\n",
       "      <td>Prof-specialty</td>\n",
       "      <td>40</td>\n",
       "      <td>0</td>\n",
       "      <td>0</td>\n",
       "    </tr>\n",
       "  </tbody>\n",
       "</table>\n",
       "</div>"
      ],
      "text/plain": [
       "   age         workclass  education-num  ... hours-per-week  income  sex_Male\n",
       "0   39         State-gov             13  ...             40       0         1\n",
       "1   50  Self-emp-not-inc             13  ...             13       0         1\n",
       "2   38           Private              9  ...             40       0         1\n",
       "3   53           Private              7  ...             40       0         1\n",
       "4   28           Private             13  ...             40       0         0\n",
       "\n",
       "[5 rows x 7 columns]"
      ]
     },
     "execution_count": 7,
     "metadata": {
      "tags": []
     },
     "output_type": "execute_result"
    }
   ],
   "source": [
    "df = pd.get_dummies(df, columns=['sex'], drop_first=True)\n",
    "df.head()"
   ]
  },
  {
   "cell_type": "markdown",
   "metadata": {
    "id": "NIsaArY34llz"
   },
   "source": [
    "#### Third step - replace rare classes"
   ]
  },
  {
   "cell_type": "markdown",
   "metadata": {
    "id": "XWZ5NwqL4llz"
   },
   "source": [
    "Let's check if we have any rare classes"
   ]
  },
  {
   "cell_type": "code",
   "execution_count": null,
   "metadata": {
    "colab": {
     "base_uri": "https://localhost:8080/"
    },
    "id": "0sbA6Tgl4llz",
    "outputId": "f7056f92-dc0c-4844-b06e-a78bc640adc0"
   },
   "outputs": [
    {
     "data": {
      "text/plain": [
       "Private             22696\n",
       "Self-emp-not-inc     2541\n",
       "Local-gov            2093\n",
       "?                    1836\n",
       "State-gov            1298\n",
       "Self-emp-inc         1116\n",
       "Federal-gov           960\n",
       "Without-pay            14\n",
       "Never-worked            7\n",
       "Name: workclass, dtype: int64"
      ]
     },
     "execution_count": 8,
     "metadata": {
      "tags": []
     },
     "output_type": "execute_result"
    }
   ],
   "source": [
    "df.workclass.value_counts()"
   ]
  },
  {
   "cell_type": "code",
   "execution_count": null,
   "metadata": {
    "colab": {
     "base_uri": "https://localhost:8080/"
    },
    "id": "qzL7hsy44llz",
    "outputId": "3936b14a-78d1-4d30-dc18-456735b75dca"
   },
   "outputs": [
    {
     "data": {
      "text/plain": [
       "Prof-specialty       4140\n",
       "Craft-repair         4099\n",
       "Exec-managerial      4066\n",
       "Adm-clerical         3770\n",
       "Sales                3650\n",
       "Other-service        3295\n",
       "Machine-op-inspct    2002\n",
       "?                    1843\n",
       "Transport-moving     1597\n",
       "Handlers-cleaners    1370\n",
       "Farming-fishing       994\n",
       "Tech-support          928\n",
       "Protective-serv       649\n",
       "Priv-house-serv       149\n",
       "Armed-Forces            9\n",
       "Name: occupation, dtype: int64"
      ]
     },
     "execution_count": 9,
     "metadata": {
      "tags": []
     },
     "output_type": "execute_result"
    }
   ],
   "source": [
    "df.occupation.value_counts()"
   ]
  },
  {
   "cell_type": "markdown",
   "metadata": {
    "id": "_Vyjib-e4ll0"
   },
   "source": [
    "Then we should replace rare classes for one-hot encoded columns"
   ]
  },
  {
   "cell_type": "code",
   "execution_count": null,
   "metadata": {
    "colab": {
     "base_uri": "https://localhost:8080/"
    },
    "id": "hRgu6aps4ll0",
    "outputId": "2931604a-f3a6-4228-fc37-592e045495c2"
   },
   "outputs": [
    {
     "data": {
      "text/plain": [
       "Private             22696\n",
       "Self-emp-not-inc     2541\n",
       "Local-gov            2093\n",
       "?                    1857\n",
       "State-gov            1298\n",
       "Self-emp-inc         1116\n",
       "Federal-gov           960\n",
       "Name: workclass, dtype: int64"
      ]
     },
     "execution_count": 10,
     "metadata": {
      "tags": []
     },
     "output_type": "execute_result"
    }
   ],
   "source": [
    "df.loc[df.workclass.isin(['Without-pay', 'Never-worked']), 'workclass'] = '?'\n",
    "df.workclass.value_counts()"
   ]
  },
  {
   "cell_type": "code",
   "execution_count": null,
   "metadata": {
    "colab": {
     "base_uri": "https://localhost:8080/"
    },
    "id": "5HIh-tG04ll0",
    "outputId": "3ca8ce0c-8980-405b-9ea6-b98bd414eb3c"
   },
   "outputs": [
    {
     "data": {
      "text/plain": [
       "Prof-specialty       4140\n",
       "Craft-repair         4099\n",
       "Exec-managerial      4066\n",
       "Adm-clerical         3770\n",
       "Sales                3650\n",
       "Other-service        3295\n",
       "?                    2650\n",
       "Machine-op-inspct    2002\n",
       "Transport-moving     1597\n",
       "Handlers-cleaners    1370\n",
       "Farming-fishing       994\n",
       "Tech-support          928\n",
       "Name: occupation, dtype: int64"
      ]
     },
     "execution_count": 11,
     "metadata": {
      "tags": []
     },
     "output_type": "execute_result"
    }
   ],
   "source": [
    "df.loc[df.occupation.isin(['Protective-serv', 'Priv-house-serv', 'Armed-Forces']), 'occupation'] = '?'\n",
    "df.occupation.value_counts()"
   ]
  },
  {
   "cell_type": "markdown",
   "metadata": {
    "id": "iPyNy1TP4ll0"
   },
   "source": [
    "#### Final step - one hot encoding"
   ]
  },
  {
   "cell_type": "code",
   "execution_count": null,
   "metadata": {
    "colab": {
     "base_uri": "https://localhost:8080/",
     "height": 481
    },
    "id": "RgYS7b5u4ll0",
    "outputId": "4a8e53fb-d830-49d2-a2ad-b035ca0b7323"
   },
   "outputs": [
    {
     "name": "stdout",
     "output_type": "stream",
     "text": [
      "(32561, 24)\n",
      "Index(['age', 'education-num', 'hours-per-week', 'income', 'sex_Male',\n",
      "       'workclass_?', 'workclass_Federal-gov', 'workclass_Local-gov',\n",
      "       'workclass_Private', 'workclass_Self-emp-inc',\n",
      "       'workclass_Self-emp-not-inc', 'workclass_State-gov', 'occupation_?',\n",
      "       'occupation_Adm-clerical', 'occupation_Craft-repair',\n",
      "       'occupation_Exec-managerial', 'occupation_Farming-fishing',\n",
      "       'occupation_Handlers-cleaners', 'occupation_Machine-op-inspct',\n",
      "       'occupation_Other-service', 'occupation_Prof-specialty',\n",
      "       'occupation_Sales', 'occupation_Tech-support',\n",
      "       'occupation_Transport-moving'],\n",
      "      dtype='object')\n"
     ]
    },
    {
     "data": {
      "text/html": [
       "<div>\n",
       "<style scoped>\n",
       "    .dataframe tbody tr th:only-of-type {\n",
       "        vertical-align: middle;\n",
       "    }\n",
       "\n",
       "    .dataframe tbody tr th {\n",
       "        vertical-align: top;\n",
       "    }\n",
       "\n",
       "    .dataframe thead th {\n",
       "        text-align: right;\n",
       "    }\n",
       "</style>\n",
       "<table border=\"1\" class=\"dataframe\">\n",
       "  <thead>\n",
       "    <tr style=\"text-align: right;\">\n",
       "      <th></th>\n",
       "      <th>age</th>\n",
       "      <th>education-num</th>\n",
       "      <th>hours-per-week</th>\n",
       "      <th>income</th>\n",
       "      <th>sex_Male</th>\n",
       "      <th>workclass_?</th>\n",
       "      <th>workclass_Federal-gov</th>\n",
       "      <th>workclass_Local-gov</th>\n",
       "      <th>workclass_Private</th>\n",
       "      <th>workclass_Self-emp-inc</th>\n",
       "      <th>workclass_Self-emp-not-inc</th>\n",
       "      <th>workclass_State-gov</th>\n",
       "      <th>occupation_?</th>\n",
       "      <th>occupation_Adm-clerical</th>\n",
       "      <th>occupation_Craft-repair</th>\n",
       "      <th>occupation_Exec-managerial</th>\n",
       "      <th>occupation_Farming-fishing</th>\n",
       "      <th>occupation_Handlers-cleaners</th>\n",
       "      <th>occupation_Machine-op-inspct</th>\n",
       "      <th>occupation_Other-service</th>\n",
       "      <th>occupation_Prof-specialty</th>\n",
       "      <th>occupation_Sales</th>\n",
       "      <th>occupation_Tech-support</th>\n",
       "      <th>occupation_Transport-moving</th>\n",
       "    </tr>\n",
       "  </thead>\n",
       "  <tbody>\n",
       "    <tr>\n",
       "      <th>0</th>\n",
       "      <td>39</td>\n",
       "      <td>13</td>\n",
       "      <td>40</td>\n",
       "      <td>0</td>\n",
       "      <td>1</td>\n",
       "      <td>0</td>\n",
       "      <td>0</td>\n",
       "      <td>0</td>\n",
       "      <td>0</td>\n",
       "      <td>0</td>\n",
       "      <td>0</td>\n",
       "      <td>1</td>\n",
       "      <td>0</td>\n",
       "      <td>1</td>\n",
       "      <td>0</td>\n",
       "      <td>0</td>\n",
       "      <td>0</td>\n",
       "      <td>0</td>\n",
       "      <td>0</td>\n",
       "      <td>0</td>\n",
       "      <td>0</td>\n",
       "      <td>0</td>\n",
       "      <td>0</td>\n",
       "      <td>0</td>\n",
       "    </tr>\n",
       "    <tr>\n",
       "      <th>1</th>\n",
       "      <td>50</td>\n",
       "      <td>13</td>\n",
       "      <td>13</td>\n",
       "      <td>0</td>\n",
       "      <td>1</td>\n",
       "      <td>0</td>\n",
       "      <td>0</td>\n",
       "      <td>0</td>\n",
       "      <td>0</td>\n",
       "      <td>0</td>\n",
       "      <td>1</td>\n",
       "      <td>0</td>\n",
       "      <td>0</td>\n",
       "      <td>0</td>\n",
       "      <td>0</td>\n",
       "      <td>1</td>\n",
       "      <td>0</td>\n",
       "      <td>0</td>\n",
       "      <td>0</td>\n",
       "      <td>0</td>\n",
       "      <td>0</td>\n",
       "      <td>0</td>\n",
       "      <td>0</td>\n",
       "      <td>0</td>\n",
       "    </tr>\n",
       "    <tr>\n",
       "      <th>2</th>\n",
       "      <td>38</td>\n",
       "      <td>9</td>\n",
       "      <td>40</td>\n",
       "      <td>0</td>\n",
       "      <td>1</td>\n",
       "      <td>0</td>\n",
       "      <td>0</td>\n",
       "      <td>0</td>\n",
       "      <td>1</td>\n",
       "      <td>0</td>\n",
       "      <td>0</td>\n",
       "      <td>0</td>\n",
       "      <td>0</td>\n",
       "      <td>0</td>\n",
       "      <td>0</td>\n",
       "      <td>0</td>\n",
       "      <td>0</td>\n",
       "      <td>1</td>\n",
       "      <td>0</td>\n",
       "      <td>0</td>\n",
       "      <td>0</td>\n",
       "      <td>0</td>\n",
       "      <td>0</td>\n",
       "      <td>0</td>\n",
       "    </tr>\n",
       "    <tr>\n",
       "      <th>3</th>\n",
       "      <td>53</td>\n",
       "      <td>7</td>\n",
       "      <td>40</td>\n",
       "      <td>0</td>\n",
       "      <td>1</td>\n",
       "      <td>0</td>\n",
       "      <td>0</td>\n",
       "      <td>0</td>\n",
       "      <td>1</td>\n",
       "      <td>0</td>\n",
       "      <td>0</td>\n",
       "      <td>0</td>\n",
       "      <td>0</td>\n",
       "      <td>0</td>\n",
       "      <td>0</td>\n",
       "      <td>0</td>\n",
       "      <td>0</td>\n",
       "      <td>1</td>\n",
       "      <td>0</td>\n",
       "      <td>0</td>\n",
       "      <td>0</td>\n",
       "      <td>0</td>\n",
       "      <td>0</td>\n",
       "      <td>0</td>\n",
       "    </tr>\n",
       "    <tr>\n",
       "      <th>4</th>\n",
       "      <td>28</td>\n",
       "      <td>13</td>\n",
       "      <td>40</td>\n",
       "      <td>0</td>\n",
       "      <td>0</td>\n",
       "      <td>0</td>\n",
       "      <td>0</td>\n",
       "      <td>0</td>\n",
       "      <td>1</td>\n",
       "      <td>0</td>\n",
       "      <td>0</td>\n",
       "      <td>0</td>\n",
       "      <td>0</td>\n",
       "      <td>0</td>\n",
       "      <td>0</td>\n",
       "      <td>0</td>\n",
       "      <td>0</td>\n",
       "      <td>0</td>\n",
       "      <td>0</td>\n",
       "      <td>0</td>\n",
       "      <td>1</td>\n",
       "      <td>0</td>\n",
       "      <td>0</td>\n",
       "      <td>0</td>\n",
       "    </tr>\n",
       "  </tbody>\n",
       "</table>\n",
       "</div>"
      ],
      "text/plain": [
       "   age  education-num  ...  occupation_Tech-support  occupation_Transport-moving\n",
       "0   39             13  ...                        0                            0\n",
       "1   50             13  ...                        0                            0\n",
       "2   38              9  ...                        0                            0\n",
       "3   53              7  ...                        0                            0\n",
       "4   28             13  ...                        0                            0\n",
       "\n",
       "[5 rows x 24 columns]"
      ]
     },
     "execution_count": 12,
     "metadata": {
      "tags": []
     },
     "output_type": "execute_result"
    }
   ],
   "source": [
    "df = pd.get_dummies(df, columns=['workclass', 'occupation'])\n",
    "print (df.shape)\n",
    "print (df.columns)\n",
    "df.head()"
   ]
  },
  {
   "cell_type": "markdown",
   "metadata": {
    "id": "avl_S-_74ll0"
   },
   "source": [
    "## Splitting dataset"
   ]
  },
  {
   "cell_type": "markdown",
   "metadata": {
    "id": "WSkFQPyd4ll0"
   },
   "source": [
    "Let's split the dataset into features and labels first.\n",
    "- `income` is the label (`y`)\n",
    "- all other columns are features (`X`)"
   ]
  },
  {
   "cell_type": "code",
   "execution_count": null,
   "metadata": {
    "id": "AsqtAf_54ll0"
   },
   "outputs": [],
   "source": [
    "y = df.income\n",
    "X = df.drop(['income'], axis=1)"
   ]
  },
  {
   "cell_type": "markdown",
   "metadata": {
    "id": "u4VV3stT4ll0"
   },
   "source": [
    "### Train test split\n",
    "#### NOTE: This time we want to split the data into 3 datasets\n",
    "Split ratio: 60, 20, 20"
   ]
  },
  {
   "cell_type": "code",
   "execution_count": null,
   "metadata": {
    "colab": {
     "base_uri": "https://localhost:8080/"
    },
    "id": "wX7O4cjd4ll0",
    "outputId": "a1ae4bf5-eb31-4bf5-a0b3-b12460e6e0a1"
   },
   "outputs": [
    {
     "name": "stdout",
     "output_type": "stream",
     "text": [
      "X train shape: (19536, 23)\n",
      "y train shape: (19536,)\n",
      "X valid shape: (6512, 23)\n",
      "y valid shape: (6512,)\n",
      "X test shape: (6513, 23)\n",
      "y test shape: (6513,)\n"
     ]
    }
   ],
   "source": [
    "from sklearn.model_selection import train_test_split\n",
    "X_train, X_test, y_train, y_test = train_test_split(X, y, test_size=0.4, \n",
    "                                                    stratify = y, random_state=1)\n",
    "\n",
    "X_valid, X_test, y_valid, y_test = train_test_split(X_test, y_test, test_size=0.5, \n",
    "                                                    stratify = y_test, random_state=1)\n",
    "\n",
    "print ('X train shape:', X_train.shape)\n",
    "print ('y train shape:', y_train.shape)\n",
    "\n",
    "print ('X valid shape:', X_valid.shape)\n",
    "print ('y valid shape:', y_valid.shape)\n",
    "\n",
    "print ('X test shape:', X_test.shape)\n",
    "print ('y test shape:', y_test.shape)"
   ]
  },
  {
   "cell_type": "markdown",
   "metadata": {
    "id": "N8JBRjhe4ll0"
   },
   "source": [
    "# Keras"
   ]
  },
  {
   "cell_type": "markdown",
   "metadata": {
    "id": "-ARdlHL04ll0"
   },
   "source": [
    "Import modules"
   ]
  },
  {
   "cell_type": "code",
   "execution_count": null,
   "metadata": {
    "id": "oHSh0mld4ll0"
   },
   "outputs": [],
   "source": [
    "from tensorflow.keras.models import Sequential \n",
    "from tensorflow.keras.layers import Dense \n",
    "from tensorflow.keras.layers import Dropout \n",
    "from tensorflow.keras import optimizers "
   ]
  },
  {
   "cell_type": "markdown",
   "metadata": {
    "id": "pBM5O_SE4ll0"
   },
   "source": [
    "## Building model"
   ]
  },
  {
   "cell_type": "markdown",
   "metadata": {
    "id": "4xDoCv9q4ll1"
   },
   "source": [
    "Let's define the hyperparameters first"
   ]
  },
  {
   "cell_type": "code",
   "execution_count": null,
   "metadata": {
    "colab": {
     "base_uri": "https://localhost:8080/"
    },
    "id": "xq1kFnoy4ll1",
    "outputId": "33379462-595d-4a30-ce28-e6eeae41a1c4"
   },
   "outputs": [
    {
     "name": "stdout",
     "output_type": "stream",
     "text": [
      "X_train dataset contains 23 features (columns).\n"
     ]
    }
   ],
   "source": [
    "CELLS_1 = 32\n",
    "CELLS_2 = 8\n",
    "\n",
    "LEARNING_RATE = 0.001\n",
    "EPOCHS = 10\n",
    "BATCH_SIZE = 128 \n",
    "\n",
    "NR_INPUTS = X_train.shape[1] \n",
    "\n",
    "print(\"X_train dataset contains {} features (columns).\".format(NR_INPUTS))"
   ]
  },
  {
   "cell_type": "markdown",
   "metadata": {
    "id": "N-A2GYRk4ll1"
   },
   "source": [
    "Now we may build the model"
   ]
  },
  {
   "cell_type": "code",
   "execution_count": null,
   "metadata": {
    "colab": {
     "base_uri": "https://localhost:8080/"
    },
    "id": "-dlfEGXJ4ll1",
    "outputId": "e72e151c-9fb7-4b24-86b6-f9858cb2c27a"
   },
   "outputs": [
    {
     "name": "stdout",
     "output_type": "stream",
     "text": [
      "Model: \"sequential\"\n",
      "_________________________________________________________________\n",
      "Layer (type)                 Output Shape              Param #   \n",
      "=================================================================\n",
      "dense (Dense)                (None, 32)                768       \n",
      "_________________________________________________________________\n",
      "dense_1 (Dense)              (None, 8)                 264       \n",
      "_________________________________________________________________\n",
      "dense_2 (Dense)              (None, 1)                 9         \n",
      "=================================================================\n",
      "Total params: 1,041\n",
      "Trainable params: 1,041\n",
      "Non-trainable params: 0\n",
      "_________________________________________________________________\n"
     ]
    }
   ],
   "source": [
    "model = Sequential() \n",
    "\n",
    "model.add(Dense(CELLS_1, input_shape = [NR_INPUTS, ], activation = 'relu'))\n",
    "model.add(Dense(CELLS_2, activation = 'relu'))\n",
    "model.add(Dense(1, activation='sigmoid'))\n",
    "\n",
    "optimizer = optimizers.Adam(lr=LEARNING_RATE)\n",
    "\n",
    "model.compile(loss = 'binary_crossentropy', optimizer = optimizer, metrics=['accuracy']) \n",
    "\n",
    "model.summary()"
   ]
  },
  {
   "cell_type": "code",
   "execution_count": null,
   "metadata": {
    "colab": {
     "base_uri": "https://localhost:8080/"
    },
    "id": "gWxFkwL64ll1",
    "outputId": "010668d3-5f98-4771-84e4-57f3a8f53dcb"
   },
   "outputs": [
    {
     "name": "stdout",
     "output_type": "stream",
     "text": [
      "Epoch 1/10\n",
      "153/153 [==============================] - 0s 3ms/step - loss: 2.9131 - accuracy: 0.6181 - val_loss: 0.5176 - val_accuracy: 0.7641\n",
      "Epoch 2/10\n",
      "153/153 [==============================] - 0s 2ms/step - loss: 0.5006 - accuracy: 0.7665 - val_loss: 0.4847 - val_accuracy: 0.7764\n",
      "Epoch 3/10\n",
      "153/153 [==============================] - 0s 1ms/step - loss: 0.4756 - accuracy: 0.7782 - val_loss: 0.4637 - val_accuracy: 0.7859\n",
      "Epoch 4/10\n",
      "153/153 [==============================] - 0s 1ms/step - loss: 0.4606 - accuracy: 0.7857 - val_loss: 0.4518 - val_accuracy: 0.7870\n",
      "Epoch 5/10\n",
      "153/153 [==============================] - 0s 1ms/step - loss: 0.4498 - accuracy: 0.7903 - val_loss: 0.4459 - val_accuracy: 0.7944\n",
      "Epoch 6/10\n",
      "153/153 [==============================] - 0s 2ms/step - loss: 0.4451 - accuracy: 0.7928 - val_loss: 0.4353 - val_accuracy: 0.7979\n",
      "Epoch 7/10\n",
      "153/153 [==============================] - 0s 2ms/step - loss: 0.4365 - accuracy: 0.7975 - val_loss: 0.4296 - val_accuracy: 0.8002\n",
      "Epoch 8/10\n",
      "153/153 [==============================] - 0s 2ms/step - loss: 0.4328 - accuracy: 0.8009 - val_loss: 0.4242 - val_accuracy: 0.8033\n",
      "Epoch 9/10\n",
      "153/153 [==============================] - 0s 1ms/step - loss: 0.4264 - accuracy: 0.8024 - val_loss: 0.4190 - val_accuracy: 0.8087\n",
      "Epoch 10/10\n",
      "153/153 [==============================] - 0s 1ms/step - loss: 0.4256 - accuracy: 0.8012 - val_loss: 0.4145 - val_accuracy: 0.8077\n"
     ]
    }
   ],
   "source": [
    "history = model.fit(X_train, y_train,\n",
    "                    validation_data = (X_valid, y_valid),\n",
    "                    batch_size = BATCH_SIZE,\n",
    "                    epochs = EPOCHS\n",
    "                    )"
   ]
  },
  {
   "cell_type": "markdown",
   "metadata": {
    "id": "0TwqKdiR4ll1"
   },
   "source": [
    "Let's display the training history"
   ]
  },
  {
   "cell_type": "code",
   "execution_count": null,
   "metadata": {
    "id": "-k3_DyKC4ll1"
   },
   "outputs": [],
   "source": [
    "def plot_train_valid_history(history):\n",
    "    \"\"\"\n",
    "    Plots train and validation losses.\n",
    "    Arguments: history - history of training (result of keras model.fit).\n",
    "        history.history must be a dictionary that looks as follow:\n",
    "        {\n",
    "            'loss' : .....\n",
    "            'valid_loss' : .....\n",
    "            'acc' : .... # Optional\n",
    "            'val_acc' : ..... # Optional\n",
    "        }\n",
    "    \"\"\"\n",
    "    epochs = np.arange(len(history.history['val_loss'])) + 1\n",
    "    fig = plt.figure(figsize=(8, 4))\n",
    "    if 'accuracy' in history.history:\n",
    "        ax1 = fig.add_subplot(121)\n",
    "        ax1.plot(epochs, history.history['loss'], c='b', label='Train loss')\n",
    "        ax1.plot(epochs, history.history['val_loss'], c='g', label='Valid loss')\n",
    "        plt.legend(loc='lower left');\n",
    "        plt.grid(True)        \n",
    "        \n",
    "        ax1 = fig.add_subplot(122)\n",
    "        ax1.plot(epochs, history.history['accuracy'], c='b', label='Train acc')\n",
    "        ax1.plot(epochs, history.history['val_accuracy'], c='g', label='Valid acc')\n",
    "        plt.legend(loc='lower right');\n",
    "        plt.grid(True)        \n",
    "         \n",
    "        \n",
    "    else:\n",
    "        ax1 = fig.add_subplot(111)\n",
    "        ax1.plot(epochs, history.history['loss'], c='b', label='Train loss')\n",
    "        ax1.plot(epochs, history.history['val_loss'], c='g', label='Valid loss')\n",
    "        plt.legend(loc='lower left');\n",
    "        plt.grid(True)\n",
    "    plt.show()"
   ]
  },
  {
   "cell_type": "code",
   "execution_count": null,
   "metadata": {
    "colab": {
     "base_uri": "https://localhost:8080/",
     "height": 266
    },
    "id": "EcVcirDu4ll1",
    "outputId": "42602b8c-e828-46e6-c21b-88a1855d182b"
   },
   "outputs": [
    {
     "data": {
      "image/png": "[encoded data removed]",
      "text/plain": [
       "<Figure size 576x288 with 2 Axes>"
      ]
     },
     "metadata": {
      "needs_background": "light",
      "tags": []
     },
     "output_type": "display_data"
    }
   ],
   "source": [
    "plot_train_valid_history(history)"
   ]
  },
  {
   "cell_type": "code",
   "execution_count": null,
   "metadata": {
    "colab": {
     "base_uri": "https://localhost:8080/"
    },
    "id": "tkwE6e0x4ll1",
    "outputId": "3b35218d-087a-460c-9d35-fbafabf8ec7a"
   },
   "outputs": [
    {
     "name": "stdout",
     "output_type": "stream",
     "text": [
      "204/204 [==============================] - 0s 869us/step - loss: 0.4163 - accuracy: 0.8095\n",
      "Test score:  0.41625434160232544\n",
      "Test accuracy:  0.8094580173492432\n"
     ]
    }
   ],
   "source": [
    "score, acc = model.evaluate(X_test, y_test)\n",
    "\n",
    "print(\"Test score: \", score)\n",
    "print(\"Test accuracy: \",acc)"
   ]
  },
  {
   "cell_type": "markdown",
   "metadata": {
    "id": "uCzcj8wR4ll1"
   },
   "source": [
    "## Task 1\n",
    "Create, train and test a model with following parameters:\n",
    "- First hidden layer: 32 neurons, relu activation\n",
    "- Dropout after first hidden layer keep_probability = 0.5\n",
    "- Second hidden layer: 32 neurons, relu activation\n",
    "- Output layer: 1 neuron, sigmoid activation\n",
    "\n",
    "Training parameters:\n",
    "- Learning Rate: 0.0003\n",
    "- Number of Epochs: 50\n",
    "- Batch size: 128\n",
    "\n",
    "*Note: You will need your model in task 2, so it is a good idea to write a function, which creates the model.*\n",
    "\n",
    "![alt text](./img/model_keras_task1.png \"Task 1 model\")"
   ]
  },
  {
   "cell_type": "code",
   "execution_count": null,
   "metadata": {
    "colab": {
     "base_uri": "https://localhost:8080/"
    },
    "id": "BtRt9Xg34ll1",
    "outputId": "3c82c845-6b9a-4968-8cf0-5decde73bd40"
   },
   "outputs": [
    {
     "name": "stdout",
     "output_type": "stream",
     "text": [
      "X_train dataset contains 23 features (columns).\n"
     ]
    }
   ],
   "source": [
    "# HYPERPARAMETERS\n",
    "\n",
    "CELLS_1 = 32\n",
    "CELLS_2 = 32\n",
    "\n",
    "LEARNING_RATE = 0.0003\n",
    "EPOCHS = 50\n",
    "BATCH_SIZE = 128 \n",
    "NR_INPUTS = X_train.shape[1] \n",
    "\n",
    "print(\"X_train dataset contains {} features (columns).\".format(NR_INPUTS))"
   ]
  },
  {
   "cell_type": "code",
   "execution_count": null,
   "metadata": {
    "id": "d7rNIP9u4ll1"
   },
   "outputs": [],
   "source": [
    "def create_model():\n",
    "    model = Sequential()\n",
    "    model.add(Dense(CELLS_1, input_shape = [NR_INPUTS, ], activation = 'relu'))\n",
    "    model.add(Dropout(0.5)) #regularyzacja po 1. warstwie, zeby uniknac overfittingu, prawdopodobienstwo utrzymania neuronow\n",
    "    model.add(Dense(CELLS_2, activation = 'relu'))\n",
    "    model.add(Dense(1, activation='sigmoid'))\n",
    "    optimizer = optimizers.Adam(lr=LEARNING_RATE)\n",
    "    model.compile(loss = 'binary_crossentropy', optimizer = optimizer, metrics=['accuracy'])\n",
    "    return model    "
   ]
  },
  {
   "cell_type": "code",
   "execution_count": null,
   "metadata": {
    "id": "d_AWty5ITyRG"
   },
   "outputs": [],
   "source": [
    "model = create_model()"
   ]
  },
  {
   "cell_type": "code",
   "execution_count": null,
   "metadata": {
    "colab": {
     "base_uri": "https://localhost:8080/"
    },
    "id": "AXo9bfbhTIUt",
    "outputId": "9d7ef485-9d2e-4ecd-9153-37d060dfe223"
   },
   "outputs": [
    {
     "name": "stdout",
     "output_type": "stream",
     "text": [
      "Model: \"sequential_1\"\n",
      "_________________________________________________________________\n",
      "Layer (type)                 Output Shape              Param #   \n",
      "=================================================================\n",
      "dense_3 (Dense)              (None, 32)                768       \n",
      "_________________________________________________________________\n",
      "dropout (Dropout)            (None, 32)                0         \n",
      "_________________________________________________________________\n",
      "dense_4 (Dense)              (None, 32)                1056      \n",
      "_________________________________________________________________\n",
      "dense_5 (Dense)              (None, 1)                 33        \n",
      "=================================================================\n",
      "Total params: 1,857\n",
      "Trainable params: 1,857\n",
      "Non-trainable params: 0\n",
      "_________________________________________________________________\n"
     ]
    }
   ],
   "source": [
    "model.summary()"
   ]
  },
  {
   "cell_type": "code",
   "execution_count": null,
   "metadata": {
    "colab": {
     "base_uri": "https://localhost:8080/"
    },
    "id": "HvC4jTAR4ll2",
    "outputId": "48cb2fe3-b9d3-4620-fddb-4e031c07b944"
   },
   "outputs": [
    {
     "name": "stdout",
     "output_type": "stream",
     "text": [
      "Epoch 1/50\n",
      "153/153 [==============================] - 0s 3ms/step - loss: 1.0060 - accuracy: 0.6501 - val_loss: 0.5869 - val_accuracy: 0.7566\n",
      "Epoch 2/50\n",
      "153/153 [==============================] - 0s 2ms/step - loss: 0.6853 - accuracy: 0.6881 - val_loss: 0.5833 - val_accuracy: 0.7586\n",
      "Epoch 3/50\n",
      "153/153 [==============================] - 0s 2ms/step - loss: 0.6227 - accuracy: 0.7227 - val_loss: 0.5746 - val_accuracy: 0.7592\n",
      "Epoch 4/50\n",
      "153/153 [==============================] - 0s 2ms/step - loss: 0.5962 - accuracy: 0.7416 - val_loss: 0.5682 - val_accuracy: 0.7592\n",
      "Epoch 5/50\n",
      "153/153 [==============================] - 0s 2ms/step - loss: 0.5870 - accuracy: 0.7504 - val_loss: 0.5593 - val_accuracy: 0.7592\n",
      "Epoch 6/50\n",
      "153/153 [==============================] - 0s 2ms/step - loss: 0.5733 - accuracy: 0.7561 - val_loss: 0.5547 - val_accuracy: 0.7592\n",
      "Epoch 7/50\n",
      "153/153 [==============================] - 0s 2ms/step - loss: 0.5617 - accuracy: 0.7583 - val_loss: 0.5482 - val_accuracy: 0.7592\n",
      "Epoch 8/50\n",
      "153/153 [==============================] - 0s 2ms/step - loss: 0.5554 - accuracy: 0.7583 - val_loss: 0.5438 - val_accuracy: 0.7592\n",
      "Epoch 9/50\n",
      "153/153 [==============================] - 0s 2ms/step - loss: 0.5531 - accuracy: 0.7585 - val_loss: 0.5379 - val_accuracy: 0.7592\n",
      "Epoch 10/50\n",
      "153/153 [==============================] - 0s 2ms/step - loss: 0.5478 - accuracy: 0.7584 - val_loss: 0.5351 - val_accuracy: 0.7592\n",
      "Epoch 11/50\n",
      "153/153 [==============================] - 0s 2ms/step - loss: 0.5425 - accuracy: 0.7589 - val_loss: 0.5305 - val_accuracy: 0.7592\n",
      "Epoch 12/50\n",
      "153/153 [==============================] - 0s 2ms/step - loss: 0.5383 - accuracy: 0.7587 - val_loss: 0.5319 - val_accuracy: 0.7592\n",
      "Epoch 13/50\n",
      "153/153 [==============================] - 0s 2ms/step - loss: 0.5332 - accuracy: 0.7583 - val_loss: 0.5290 - val_accuracy: 0.7592\n",
      "Epoch 14/50\n",
      "153/153 [==============================] - 0s 2ms/step - loss: 0.5300 - accuracy: 0.7582 - val_loss: 0.5227 - val_accuracy: 0.7592\n",
      "Epoch 15/50\n",
      "153/153 [==============================] - 0s 2ms/step - loss: 0.5254 - accuracy: 0.7589 - val_loss: 0.5143 - val_accuracy: 0.7592\n",
      "Epoch 16/50\n",
      "153/153 [==============================] - 0s 2ms/step - loss: 0.5217 - accuracy: 0.7577 - val_loss: 0.5203 - val_accuracy: 0.7592\n",
      "Epoch 17/50\n",
      "153/153 [==============================] - 0s 2ms/step - loss: 0.5155 - accuracy: 0.7601 - val_loss: 0.5105 - val_accuracy: 0.7592\n",
      "Epoch 18/50\n",
      "153/153 [==============================] - 0s 2ms/step - loss: 0.5112 - accuracy: 0.7615 - val_loss: 0.5155 - val_accuracy: 0.7592\n",
      "Epoch 19/50\n",
      "153/153 [==============================] - 0s 2ms/step - loss: 0.5055 - accuracy: 0.7638 - val_loss: 0.5165 - val_accuracy: 0.7592\n",
      "Epoch 20/50\n",
      "153/153 [==============================] - 0s 2ms/step - loss: 0.4999 - accuracy: 0.7682 - val_loss: 0.5035 - val_accuracy: 0.7592\n",
      "Epoch 21/50\n",
      "153/153 [==============================] - 0s 2ms/step - loss: 0.4981 - accuracy: 0.7665 - val_loss: 0.5111 - val_accuracy: 0.7592\n",
      "Epoch 22/50\n",
      "153/153 [==============================] - 0s 2ms/step - loss: 0.4933 - accuracy: 0.7676 - val_loss: 0.5057 - val_accuracy: 0.7592\n",
      "Epoch 23/50\n",
      "153/153 [==============================] - 0s 2ms/step - loss: 0.4877 - accuracy: 0.7693 - val_loss: 0.5110 - val_accuracy: 0.7592\n",
      "Epoch 24/50\n",
      "153/153 [==============================] - 0s 2ms/step - loss: 0.4849 - accuracy: 0.7695 - val_loss: 0.4959 - val_accuracy: 0.7592\n",
      "Epoch 25/50\n",
      "153/153 [==============================] - 0s 2ms/step - loss: 0.4826 - accuracy: 0.7727 - val_loss: 0.5122 - val_accuracy: 0.7592\n",
      "Epoch 26/50\n",
      "153/153 [==============================] - 0s 2ms/step - loss: 0.4796 - accuracy: 0.7711 - val_loss: 0.5114 - val_accuracy: 0.7592\n",
      "Epoch 27/50\n",
      "153/153 [==============================] - 0s 2ms/step - loss: 0.4752 - accuracy: 0.7723 - val_loss: 0.5128 - val_accuracy: 0.7592\n",
      "Epoch 28/50\n",
      "153/153 [==============================] - 0s 2ms/step - loss: 0.4741 - accuracy: 0.7738 - val_loss: 0.4981 - val_accuracy: 0.7592\n",
      "Epoch 29/50\n",
      "153/153 [==============================] - 0s 2ms/step - loss: 0.4726 - accuracy: 0.7717 - val_loss: 0.5049 - val_accuracy: 0.7592\n",
      "Epoch 30/50\n",
      "153/153 [==============================] - 0s 2ms/step - loss: 0.4709 - accuracy: 0.7766 - val_loss: 0.5038 - val_accuracy: 0.7592\n",
      "Epoch 31/50\n",
      "153/153 [==============================] - 0s 2ms/step - loss: 0.4666 - accuracy: 0.7785 - val_loss: 0.5186 - val_accuracy: 0.7592\n",
      "Epoch 32/50\n",
      "153/153 [==============================] - 0s 2ms/step - loss: 0.4689 - accuracy: 0.7774 - val_loss: 0.5292 - val_accuracy: 0.7592\n",
      "Epoch 33/50\n",
      "153/153 [==============================] - 0s 2ms/step - loss: 0.4668 - accuracy: 0.7786 - val_loss: 0.5248 - val_accuracy: 0.7592\n",
      "Epoch 34/50\n",
      "153/153 [==============================] - 0s 2ms/step - loss: 0.4639 - accuracy: 0.7804 - val_loss: 0.5190 - val_accuracy: 0.7592\n",
      "Epoch 35/50\n",
      "153/153 [==============================] - 0s 2ms/step - loss: 0.4595 - accuracy: 0.7826 - val_loss: 0.5425 - val_accuracy: 0.7592\n",
      "Epoch 36/50\n",
      "153/153 [==============================] - 0s 2ms/step - loss: 0.4623 - accuracy: 0.7819 - val_loss: 0.5489 - val_accuracy: 0.7592\n",
      "Epoch 37/50\n",
      "153/153 [==============================] - 0s 2ms/step - loss: 0.4602 - accuracy: 0.7829 - val_loss: 0.5289 - val_accuracy: 0.7592\n",
      "Epoch 38/50\n",
      "153/153 [==============================] - 0s 2ms/step - loss: 0.4581 - accuracy: 0.7836 - val_loss: 0.5513 - val_accuracy: 0.7592\n",
      "Epoch 39/50\n",
      "153/153 [==============================] - 0s 2ms/step - loss: 0.4580 - accuracy: 0.7844 - val_loss: 0.5428 - val_accuracy: 0.7592\n",
      "Epoch 40/50\n",
      "153/153 [==============================] - 0s 2ms/step - loss: 0.4540 - accuracy: 0.7861 - val_loss: 0.5482 - val_accuracy: 0.7592\n",
      "Epoch 41/50\n",
      "153/153 [==============================] - 0s 2ms/step - loss: 0.4543 - accuracy: 0.7881 - val_loss: 0.5372 - val_accuracy: 0.7592\n",
      "Epoch 42/50\n",
      "153/153 [==============================] - 0s 2ms/step - loss: 0.4530 - accuracy: 0.7848 - val_loss: 0.5403 - val_accuracy: 0.7592\n",
      "Epoch 43/50\n",
      "153/153 [==============================] - 0s 2ms/step - loss: 0.4539 - accuracy: 0.7881 - val_loss: 0.5651 - val_accuracy: 0.7592\n",
      "Epoch 44/50\n",
      "153/153 [==============================] - 0s 2ms/step - loss: 0.4492 - accuracy: 0.7905 - val_loss: 0.5471 - val_accuracy: 0.7592\n",
      "Epoch 45/50\n",
      "153/153 [==============================] - 0s 2ms/step - loss: 0.4473 - accuracy: 0.7914 - val_loss: 0.5624 - val_accuracy: 0.7592\n",
      "Epoch 46/50\n",
      "153/153 [==============================] - 0s 2ms/step - loss: 0.4500 - accuracy: 0.7880 - val_loss: 0.5563 - val_accuracy: 0.7592\n",
      "Epoch 47/50\n",
      "153/153 [==============================] - 0s 2ms/step - loss: 0.4496 - accuracy: 0.7898 - val_loss: 0.5818 - val_accuracy: 0.7592\n",
      "Epoch 48/50\n",
      "153/153 [==============================] - 0s 2ms/step - loss: 0.4468 - accuracy: 0.7914 - val_loss: 0.5636 - val_accuracy: 0.7592\n",
      "Epoch 49/50\n",
      "153/153 [==============================] - 0s 2ms/step - loss: 0.4465 - accuracy: 0.7908 - val_loss: 0.5782 - val_accuracy: 0.7592\n",
      "Epoch 50/50\n",
      "153/153 [==============================] - 0s 2ms/step - loss: 0.4441 - accuracy: 0.7919 - val_loss: 0.5646 - val_accuracy: 0.7592\n"
     ]
    }
   ],
   "source": [
    "history = model.fit(X_train, y_train,\n",
    "                    validation_data = (X_valid, y_valid),\n",
    "                    batch_size = BATCH_SIZE,\n",
    "                    epochs = EPOCHS\n",
    "                    )"
   ]
  },
  {
   "cell_type": "code",
   "execution_count": null,
   "metadata": {
    "colab": {
     "base_uri": "https://localhost:8080/",
     "height": 265
    },
    "id": "UAGRP7UL4ll2",
    "outputId": "d0df7adb-bfe8-4dc0-e3c6-a36652565b37"
   },
   "outputs": [
    {
     "data": {
      "image/png": "[encoded data removed]",
      "text/plain": [
       "<Figure size 576x288 with 2 Axes>"
      ]
     },
     "metadata": {
      "needs_background": "light",
      "tags": []
     },
     "output_type": "display_data"
    }
   ],
   "source": [
    "plot_train_valid_history(history)"
   ]
  },
  {
   "cell_type": "code",
   "execution_count": null,
   "metadata": {
    "id": "anoisfCwxF3N"
   },
   "outputs": [],
   "source": [
    "score, acc = model.evaluate(X_test, y_test)"
   ]
  },
  {
   "cell_type": "code",
   "execution_count": null,
   "metadata": {
    "colab": {
     "base_uri": "https://localhost:8080/"
    },
    "id": "iUonViy8TDYF",
    "outputId": "f245ac51-44a8-4048-d12c-3c4baeb5203d"
   },
   "outputs": [
    {
     "name": "stdout",
     "output_type": "stream",
     "text": [
      "204/204 [==============================] - 0s 886us/step - loss: 0.5642 - accuracy: 0.7591\n",
      "Test score:  0.5641685724258423\n",
      "Test accuracy:  0.7590972185134888\n"
     ]
    }
   ],
   "source": [
    "print(\"Test score: \", score)\n",
    "print(\"Test accuracy: \",acc)"
   ]
  },
  {
   "cell_type": "markdown",
   "metadata": {
    "id": "m4n4xLwr4ll2"
   },
   "source": [
    "## Question 1\n",
    "- How does the model behave. Can you see any overfitting or undergitting problems?\n",
    "- How you can prevent these problems?"
   ]
  },
  {
   "cell_type": "markdown",
   "metadata": {
    "id": "V8NPh-2L4ll2"
   },
   "source": [
    "## Task 2\n",
    "Normalize your features. Use StandardScaler from sklearn.preprocessing library. Then train your model on the normalized features. Did it change anything with the behaviour of the model?"
   ]
  },
  {
   "cell_type": "code",
   "execution_count": null,
   "metadata": {
    "id": "USWVYhSe4ll2"
   },
   "outputs": [],
   "source": [
    "from sklearn.preprocessing import StandardScaler\n",
    "scaler = StandardScaler()\n",
    "X_train = scaler.fit_transform(X_train)\n",
    "X_valid = scaler.transform(X_valid)\n",
    "X_test = scaler.transform(X_test)"
   ]
  },
  {
   "cell_type": "code",
   "execution_count": null,
   "metadata": {
    "colab": {
     "base_uri": "https://localhost:8080/"
    },
    "id": "fAIi5xNC4ll2",
    "outputId": "6263fa5b-b46f-4ffa-a05f-7fa572514d36"
   },
   "outputs": [
    {
     "name": "stdout",
     "output_type": "stream",
     "text": [
      "Epoch 1/50\n",
      "153/153 [==============================] - 0s 2ms/step - loss: 0.5837 - accuracy: 0.7255 - val_loss: 0.5026 - val_accuracy: 0.7701\n",
      "Epoch 2/50\n",
      "153/153 [==============================] - 0s 2ms/step - loss: 0.5083 - accuracy: 0.7650 - val_loss: 0.4592 - val_accuracy: 0.7978\n",
      "Epoch 3/50\n",
      "153/153 [==============================] - 0s 2ms/step - loss: 0.4832 - accuracy: 0.7727 - val_loss: 0.4388 - val_accuracy: 0.8107\n",
      "Epoch 4/50\n",
      "153/153 [==============================] - 0s 2ms/step - loss: 0.4673 - accuracy: 0.7795 - val_loss: 0.4257 - val_accuracy: 0.8153\n",
      "Epoch 5/50\n",
      "153/153 [==============================] - 0s 2ms/step - loss: 0.4551 - accuracy: 0.7866 - val_loss: 0.4183 - val_accuracy: 0.8188\n",
      "Epoch 6/50\n",
      "153/153 [==============================] - 0s 2ms/step - loss: 0.4492 - accuracy: 0.7903 - val_loss: 0.4138 - val_accuracy: 0.8180\n",
      "Epoch 7/50\n",
      "153/153 [==============================] - 0s 2ms/step - loss: 0.4433 - accuracy: 0.7917 - val_loss: 0.4126 - val_accuracy: 0.8182\n",
      "Epoch 8/50\n",
      "153/153 [==============================] - 0s 2ms/step - loss: 0.4435 - accuracy: 0.7928 - val_loss: 0.4112 - val_accuracy: 0.8182\n",
      "Epoch 9/50\n",
      "153/153 [==============================] - 0s 2ms/step - loss: 0.4357 - accuracy: 0.7983 - val_loss: 0.4084 - val_accuracy: 0.8194\n",
      "Epoch 10/50\n",
      "153/153 [==============================] - 0s 2ms/step - loss: 0.4347 - accuracy: 0.7970 - val_loss: 0.4062 - val_accuracy: 0.8196\n",
      "Epoch 11/50\n",
      "153/153 [==============================] - 0s 2ms/step - loss: 0.4328 - accuracy: 0.7954 - val_loss: 0.4073 - val_accuracy: 0.8179\n",
      "Epoch 12/50\n",
      "153/153 [==============================] - 0s 2ms/step - loss: 0.4311 - accuracy: 0.7992 - val_loss: 0.4043 - val_accuracy: 0.8197\n",
      "Epoch 13/50\n",
      "153/153 [==============================] - 0s 2ms/step - loss: 0.4284 - accuracy: 0.7975 - val_loss: 0.4054 - val_accuracy: 0.8202\n",
      "Epoch 14/50\n",
      "153/153 [==============================] - 0s 2ms/step - loss: 0.4254 - accuracy: 0.8005 - val_loss: 0.4038 - val_accuracy: 0.8197\n",
      "Epoch 15/50\n",
      "153/153 [==============================] - 0s 2ms/step - loss: 0.4266 - accuracy: 0.8005 - val_loss: 0.4033 - val_accuracy: 0.8202\n",
      "Epoch 16/50\n",
      "153/153 [==============================] - 0s 2ms/step - loss: 0.4240 - accuracy: 0.8028 - val_loss: 0.4023 - val_accuracy: 0.8209\n",
      "Epoch 17/50\n",
      "153/153 [==============================] - 0s 2ms/step - loss: 0.4235 - accuracy: 0.8020 - val_loss: 0.4022 - val_accuracy: 0.8205\n",
      "Epoch 18/50\n",
      "153/153 [==============================] - 0s 2ms/step - loss: 0.4207 - accuracy: 0.8036 - val_loss: 0.4013 - val_accuracy: 0.8191\n",
      "Epoch 19/50\n",
      "153/153 [==============================] - 0s 2ms/step - loss: 0.4203 - accuracy: 0.8034 - val_loss: 0.4015 - val_accuracy: 0.8202\n",
      "Epoch 20/50\n",
      "153/153 [==============================] - 0s 2ms/step - loss: 0.4206 - accuracy: 0.8039 - val_loss: 0.4005 - val_accuracy: 0.8188\n",
      "Epoch 21/50\n",
      "153/153 [==============================] - 0s 2ms/step - loss: 0.4183 - accuracy: 0.8072 - val_loss: 0.3998 - val_accuracy: 0.8183\n",
      "Epoch 22/50\n",
      "153/153 [==============================] - 0s 2ms/step - loss: 0.4174 - accuracy: 0.8048 - val_loss: 0.3995 - val_accuracy: 0.8189\n",
      "Epoch 23/50\n",
      "153/153 [==============================] - 0s 2ms/step - loss: 0.4175 - accuracy: 0.8052 - val_loss: 0.3988 - val_accuracy: 0.8193\n",
      "Epoch 24/50\n",
      "153/153 [==============================] - 0s 2ms/step - loss: 0.4185 - accuracy: 0.8069 - val_loss: 0.4003 - val_accuracy: 0.8194\n",
      "Epoch 25/50\n",
      "153/153 [==============================] - 0s 2ms/step - loss: 0.4184 - accuracy: 0.8062 - val_loss: 0.3999 - val_accuracy: 0.8200\n",
      "Epoch 26/50\n",
      "153/153 [==============================] - 0s 2ms/step - loss: 0.4202 - accuracy: 0.8059 - val_loss: 0.3999 - val_accuracy: 0.8202\n",
      "Epoch 27/50\n",
      "153/153 [==============================] - 0s 2ms/step - loss: 0.4157 - accuracy: 0.8081 - val_loss: 0.3987 - val_accuracy: 0.8203\n",
      "Epoch 28/50\n",
      "153/153 [==============================] - 0s 2ms/step - loss: 0.4150 - accuracy: 0.8082 - val_loss: 0.3996 - val_accuracy: 0.8199\n",
      "Epoch 29/50\n",
      "153/153 [==============================] - 0s 2ms/step - loss: 0.4132 - accuracy: 0.8102 - val_loss: 0.3975 - val_accuracy: 0.8209\n",
      "Epoch 30/50\n",
      "153/153 [==============================] - 0s 2ms/step - loss: 0.4133 - accuracy: 0.8065 - val_loss: 0.3983 - val_accuracy: 0.8217\n",
      "Epoch 31/50\n",
      "153/153 [==============================] - 0s 2ms/step - loss: 0.4119 - accuracy: 0.8107 - val_loss: 0.3981 - val_accuracy: 0.8222\n",
      "Epoch 32/50\n",
      "153/153 [==============================] - 0s 2ms/step - loss: 0.4109 - accuracy: 0.8082 - val_loss: 0.3977 - val_accuracy: 0.8219\n",
      "Epoch 33/50\n",
      "153/153 [==============================] - 0s 2ms/step - loss: 0.4142 - accuracy: 0.8087 - val_loss: 0.3972 - val_accuracy: 0.8216\n",
      "Epoch 34/50\n",
      "153/153 [==============================] - 0s 2ms/step - loss: 0.4098 - accuracy: 0.8097 - val_loss: 0.3971 - val_accuracy: 0.8226\n",
      "Epoch 35/50\n",
      "153/153 [==============================] - 0s 2ms/step - loss: 0.4104 - accuracy: 0.8074 - val_loss: 0.3963 - val_accuracy: 0.8220\n",
      "Epoch 36/50\n",
      "153/153 [==============================] - 0s 2ms/step - loss: 0.4110 - accuracy: 0.8076 - val_loss: 0.3964 - val_accuracy: 0.8217\n",
      "Epoch 37/50\n",
      "153/153 [==============================] - 0s 2ms/step - loss: 0.4089 - accuracy: 0.8110 - val_loss: 0.3957 - val_accuracy: 0.8211\n",
      "Epoch 38/50\n",
      "153/153 [==============================] - 0s 2ms/step - loss: 0.4099 - accuracy: 0.8091 - val_loss: 0.3975 - val_accuracy: 0.8225\n",
      "Epoch 39/50\n",
      "153/153 [==============================] - 0s 2ms/step - loss: 0.4103 - accuracy: 0.8081 - val_loss: 0.3972 - val_accuracy: 0.8222\n",
      "Epoch 40/50\n",
      "153/153 [==============================] - 0s 2ms/step - loss: 0.4065 - accuracy: 0.8146 - val_loss: 0.3969 - val_accuracy: 0.8239\n",
      "Epoch 41/50\n",
      "153/153 [==============================] - 0s 2ms/step - loss: 0.4059 - accuracy: 0.8121 - val_loss: 0.3961 - val_accuracy: 0.8226\n",
      "Epoch 42/50\n",
      "153/153 [==============================] - 0s 2ms/step - loss: 0.4073 - accuracy: 0.8112 - val_loss: 0.3967 - val_accuracy: 0.8226\n",
      "Epoch 43/50\n",
      "153/153 [==============================] - 0s 2ms/step - loss: 0.4066 - accuracy: 0.8127 - val_loss: 0.3977 - val_accuracy: 0.8220\n",
      "Epoch 44/50\n",
      "153/153 [==============================] - 0s 2ms/step - loss: 0.4074 - accuracy: 0.8107 - val_loss: 0.3979 - val_accuracy: 0.8219\n",
      "Epoch 45/50\n",
      "153/153 [==============================] - 0s 2ms/step - loss: 0.4063 - accuracy: 0.8116 - val_loss: 0.3978 - val_accuracy: 0.8219\n",
      "Epoch 46/50\n",
      "153/153 [==============================] - 0s 2ms/step - loss: 0.4067 - accuracy: 0.8126 - val_loss: 0.3977 - val_accuracy: 0.8213\n",
      "Epoch 47/50\n",
      "153/153 [==============================] - 0s 2ms/step - loss: 0.4072 - accuracy: 0.8119 - val_loss: 0.3979 - val_accuracy: 0.8223\n",
      "Epoch 48/50\n",
      "153/153 [==============================] - 0s 2ms/step - loss: 0.4056 - accuracy: 0.8124 - val_loss: 0.3974 - val_accuracy: 0.8222\n",
      "Epoch 49/50\n",
      "153/153 [==============================] - 0s 2ms/step - loss: 0.4061 - accuracy: 0.8131 - val_loss: 0.3976 - val_accuracy: 0.8232\n",
      "Epoch 50/50\n",
      "153/153 [==============================] - 0s 2ms/step - loss: 0.4070 - accuracy: 0.8128 - val_loss: 0.3987 - val_accuracy: 0.8225\n"
     ]
    }
   ],
   "source": [
    "# Create and train the model\n",
    "model = create_model()\n",
    "\n",
    "history = model.fit(X_train, y_train,\n",
    "                    validation_data = (X_valid, y_valid),\n",
    "                    batch_size = BATCH_SIZE,\n",
    "                    epochs = EPOCHS\n",
    "                    )"
   ]
  },
  {
   "cell_type": "code",
   "execution_count": null,
   "metadata": {
    "colab": {
     "base_uri": "https://localhost:8080/",
     "height": 265
    },
    "id": "kAtkRa2_4ll2",
    "outputId": "2ac26d02-9d23-40fb-d65f-4b0b7280e905"
   },
   "outputs": [
    {
     "data": {
      "image/png": "[encoded data removed]",
      "text/plain": [
       "<Figure size 576x288 with 2 Axes>"
      ]
     },
     "metadata": {
      "needs_background": "light",
      "tags": []
     },
     "output_type": "display_data"
    }
   ],
   "source": [
    "plot_train_valid_history(history)"
   ]
  },
  {
   "cell_type": "code",
   "execution_count": null,
   "metadata": {
    "colab": {
     "base_uri": "https://localhost:8080/"
    },
    "id": "an_fZijH4ll2",
    "outputId": "06404254-1917-4f60-840c-7fba9d7fde6e"
   },
   "outputs": [
    {
     "name": "stdout",
     "output_type": "stream",
     "text": [
      "204/204 [==============================] - 0s 803us/step - loss: 0.4038 - accuracy: 0.8181\n",
      "Test score:  0.40378549695014954\n",
      "Test accuracy:  0.8180561661720276\n"
     ]
    }
   ],
   "source": [
    "score, acc = model.evaluate(X_test, y_test)\n",
    "\n",
    "print(\"Test score: \", score)\n",
    "print(\"Test accuracy: \",acc)"
   ]
  },
  {
   "cell_type": "code",
   "execution_count": null,
   "metadata": {
    "id": "bEQ3lRXc4ll2"
   },
   "outputs": [],
   "source": []
  }
 ],
 "metadata": {
  "accelerator": "TPU",
  "colab": {
   "collapsed_sections": [],
   "name": "census_keras_NN_Madzi.ipynb",
   "provenance": []
  },
  "kernelspec": {
   "display_name": "Python 3",
   "language": "python",
   "name": "python3"
  },
  "language_info": {
   "codemirror_mode": {
    "name": "ipython",
    "version": 3
   },
   "file_extension": ".py",
   "mimetype": "text/x-python",
   "name": "python",
   "nbconvert_exporter": "python",
   "pygments_lexer": "ipython3",
   "version": "3.7.3"
  }
 },
 "nbformat": 4,
 "nbformat_minor": 1
}
